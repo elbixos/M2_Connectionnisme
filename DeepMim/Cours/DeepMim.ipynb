{
  "nbformat": 4,
  "nbformat_minor": 0,
  "metadata": {
    "colab": {
      "name": "DeepMim.ipynb",
      "provenance": [],
      "include_colab_link": true
    },
    "kernelspec": {
      "name": "python3",
      "display_name": "Python 3"
    }
  },
  "cells": [
    {
      "cell_type": "markdown",
      "metadata": {
        "id": "view-in-github",
        "colab_type": "text"
      },
      "source": [
        "<a href=\"https://colab.research.google.com/github/elbixos/M2_Connectionnisme/blob/master/DeepMim/Cours/DeepMim.ipynb\" target=\"_parent\"><img src=\"https://colab.research.google.com/assets/colab-badge.svg\" alt=\"Open In Colab\"/></a>"
      ]
    },
    {
      "cell_type": "markdown",
      "metadata": {
        "id": "49RSPpBJJKbb",
        "colab_type": "text"
      },
      "source": [
        "Commencons par charger nos données"
      ]
    },
    {
      "cell_type": "code",
      "metadata": {
        "id": "p00XmqAzJDT6",
        "colab_type": "code",
        "outputId": "4c5bd1a0-f2a3-4ed2-ed60-10468fbd7b53",
        "colab": {
          "base_uri": "https://localhost:8080/",
          "height": 272
        }
      },
      "source": [
        "\n",
        "import pandas as pd\n",
        "from tensorflow import keras\n",
        "\n",
        "dataset_path = keras.utils.get_file(\"evalMim.csv\", \"https://raw.githubusercontent.com/elbixos/M2_Connectionnisme/master/DeepMim/Sources/evalMim.csv\")\n",
        "\n",
        "\n",
        "column_names = ['line1','line2','line3','line4','eval']\n",
        "raw_dataset = pd.read_csv(dataset_path, names=column_names,\n",
        "                      na_values = \"?\", comment='\\t',\n",
        "                      sep=\",\", skipinitialspace=True)\n",
        "\n",
        "dataset = raw_dataset.copy()\n",
        "dataset.tail()\n"
      ],
      "execution_count": 1,
      "outputs": [
        {
          "output_type": "display_data",
          "data": {
            "text/html": [
              "<p style=\"color: red;\">\n",
              "The default version of TensorFlow in Colab will soon switch to TensorFlow 2.x.<br>\n",
              "We recommend you <a href=\"https://www.tensorflow.org/guide/migrate\" target=\"_blank\">upgrade</a> now \n",
              "or ensure your notebook will continue to use TensorFlow 1.x via the <code>%tensorflow_version 1.x</code> magic:\n",
              "<a href=\"https://colab.research.google.com/notebooks/tensorflow_version.ipynb\" target=\"_blank\">more info</a>.</p>\n"
            ],
            "text/plain": [
              "<IPython.core.display.HTML object>"
            ]
          },
          "metadata": {
            "tags": []
          }
        },
        {
          "output_type": "execute_result",
          "data": {
            "text/html": [
              "<div>\n",
              "<style scoped>\n",
              "    .dataframe tbody tr th:only-of-type {\n",
              "        vertical-align: middle;\n",
              "    }\n",
              "\n",
              "    .dataframe tbody tr th {\n",
              "        vertical-align: top;\n",
              "    }\n",
              "\n",
              "    .dataframe thead th {\n",
              "        text-align: right;\n",
              "    }\n",
              "</style>\n",
              "<table border=\"1\" class=\"dataframe\">\n",
              "  <thead>\n",
              "    <tr style=\"text-align: right;\">\n",
              "      <th></th>\n",
              "      <th>line1</th>\n",
              "      <th>line2</th>\n",
              "      <th>line3</th>\n",
              "      <th>line4</th>\n",
              "      <th>eval</th>\n",
              "    </tr>\n",
              "  </thead>\n",
              "  <tbody>\n",
              "    <tr>\n",
              "      <th>138</th>\n",
              "      <td>7</td>\n",
              "      <td>5</td>\n",
              "      <td>1</td>\n",
              "      <td>1</td>\n",
              "      <td>1</td>\n",
              "    </tr>\n",
              "    <tr>\n",
              "      <th>139</th>\n",
              "      <td>7</td>\n",
              "      <td>5</td>\n",
              "      <td>2</td>\n",
              "      <td>0</td>\n",
              "      <td>-1</td>\n",
              "    </tr>\n",
              "    <tr>\n",
              "      <th>140</th>\n",
              "      <td>7</td>\n",
              "      <td>5</td>\n",
              "      <td>2</td>\n",
              "      <td>1</td>\n",
              "      <td>1</td>\n",
              "    </tr>\n",
              "    <tr>\n",
              "      <th>141</th>\n",
              "      <td>7</td>\n",
              "      <td>5</td>\n",
              "      <td>3</td>\n",
              "      <td>0</td>\n",
              "      <td>1</td>\n",
              "    </tr>\n",
              "    <tr>\n",
              "      <th>142</th>\n",
              "      <td>7</td>\n",
              "      <td>5</td>\n",
              "      <td>3</td>\n",
              "      <td>1</td>\n",
              "      <td>-1</td>\n",
              "    </tr>\n",
              "  </tbody>\n",
              "</table>\n",
              "</div>"
            ],
            "text/plain": [
              "     line1  line2  line3  line4  eval\n",
              "138      7      5      1      1     1\n",
              "139      7      5      2      0    -1\n",
              "140      7      5      2      1     1\n",
              "141      7      5      3      0     1\n",
              "142      7      5      3      1    -1"
            ]
          },
          "metadata": {
            "tags": []
          },
          "execution_count": 1
        }
      ]
    },
    {
      "cell_type": "markdown",
      "metadata": {
        "id": "0m1SdFIuHn3T",
        "colab_type": "text"
      },
      "source": [
        "Puis, on sépare le label (eval) des caractéristiques"
      ]
    },
    {
      "cell_type": "code",
      "metadata": {
        "id": "fYurn5OpHjaF",
        "colab_type": "code",
        "colab": {
          "base_uri": "https://localhost:8080/",
          "height": 206
        },
        "outputId": "5c84eec0-64c0-4de6-d3a7-6a2a652d7128"
      },
      "source": [
        "\n",
        "\n",
        "train_labels = dataset.pop('eval')\n",
        "dataset.tail()\n"
      ],
      "execution_count": 2,
      "outputs": [
        {
          "output_type": "execute_result",
          "data": {
            "text/html": [
              "<div>\n",
              "<style scoped>\n",
              "    .dataframe tbody tr th:only-of-type {\n",
              "        vertical-align: middle;\n",
              "    }\n",
              "\n",
              "    .dataframe tbody tr th {\n",
              "        vertical-align: top;\n",
              "    }\n",
              "\n",
              "    .dataframe thead th {\n",
              "        text-align: right;\n",
              "    }\n",
              "</style>\n",
              "<table border=\"1\" class=\"dataframe\">\n",
              "  <thead>\n",
              "    <tr style=\"text-align: right;\">\n",
              "      <th></th>\n",
              "      <th>line1</th>\n",
              "      <th>line2</th>\n",
              "      <th>line3</th>\n",
              "      <th>line4</th>\n",
              "    </tr>\n",
              "  </thead>\n",
              "  <tbody>\n",
              "    <tr>\n",
              "      <th>138</th>\n",
              "      <td>7</td>\n",
              "      <td>5</td>\n",
              "      <td>1</td>\n",
              "      <td>1</td>\n",
              "    </tr>\n",
              "    <tr>\n",
              "      <th>139</th>\n",
              "      <td>7</td>\n",
              "      <td>5</td>\n",
              "      <td>2</td>\n",
              "      <td>0</td>\n",
              "    </tr>\n",
              "    <tr>\n",
              "      <th>140</th>\n",
              "      <td>7</td>\n",
              "      <td>5</td>\n",
              "      <td>2</td>\n",
              "      <td>1</td>\n",
              "    </tr>\n",
              "    <tr>\n",
              "      <th>141</th>\n",
              "      <td>7</td>\n",
              "      <td>5</td>\n",
              "      <td>3</td>\n",
              "      <td>0</td>\n",
              "    </tr>\n",
              "    <tr>\n",
              "      <th>142</th>\n",
              "      <td>7</td>\n",
              "      <td>5</td>\n",
              "      <td>3</td>\n",
              "      <td>1</td>\n",
              "    </tr>\n",
              "  </tbody>\n",
              "</table>\n",
              "</div>"
            ],
            "text/plain": [
              "     line1  line2  line3  line4\n",
              "138      7      5      1      1\n",
              "139      7      5      2      0\n",
              "140      7      5      2      1\n",
              "141      7      5      3      0\n",
              "142      7      5      3      1"
            ]
          },
          "metadata": {
            "tags": []
          },
          "execution_count": 2
        }
      ]
    },
    {
      "cell_type": "markdown",
      "metadata": {
        "id": "aimh6DIgKZno",
        "colab_type": "text"
      },
      "source": [
        "On peut aussi voir les labels"
      ]
    },
    {
      "cell_type": "code",
      "metadata": {
        "id": "Ghi1JUCGdZ_i",
        "colab_type": "code",
        "colab": {
          "base_uri": "https://localhost:8080/",
          "height": 36
        },
        "outputId": "e4b737df-f219-4363-f8f9-fe1752f627c1"
      },
      "source": [
        "print(dataset.shape)"
      ],
      "execution_count": 3,
      "outputs": [
        {
          "output_type": "stream",
          "text": [
            "(143, 4)\n"
          ],
          "name": "stdout"
        }
      ]
    },
    {
      "cell_type": "code",
      "metadata": {
        "id": "6idME90GKci-",
        "colab_type": "code",
        "outputId": "ac4140d8-3fc0-43cb-f000-ea5a9f4a2dc6",
        "colab": {
          "base_uri": "https://localhost:8080/",
          "height": 129
        }
      },
      "source": [
        "\n",
        "train_labels.tail()\n"
      ],
      "execution_count": 4,
      "outputs": [
        {
          "output_type": "execute_result",
          "data": {
            "text/plain": [
              "138    1\n",
              "139   -1\n",
              "140    1\n",
              "141    1\n",
              "142   -1\n",
              "Name: eval, dtype: int64"
            ]
          },
          "metadata": {
            "tags": []
          },
          "execution_count": 4
        }
      ]
    },
    {
      "cell_type": "markdown",
      "metadata": {
        "id": "URmKAndPKqu7",
        "colab_type": "text"
      },
      "source": [
        "On peut maintenant construire le modele. Pour des raisons pratiques, je l'ai placé dans un fichier spécifique que nous allons récupérer.\n",
        "\n",
        "Je vous l'affiche mais vous ne pouvez pas le modifier aussi facilement que le reste. Pour l'editer, il faudra utiliser le **volet** de gauche qui vous donne accès aux fichiers téléhargés.\n"
      ]
    },
    {
      "cell_type": "code",
      "metadata": {
        "id": "iQ9NLYdvAff9",
        "colab_type": "code",
        "outputId": "4c3d6a67-b723-43af-e908-6eec20c49fc3",
        "colab": {
          "base_uri": "https://localhost:8080/",
          "height": 599
        }
      },
      "source": [
        "!wget --no-http-keep-alive https://raw.githubusercontent.com/elbixos/M2_Connectionnisme/master/DeepMim/Sources/mymodel.py\n",
        "!cat mymodel.py"
      ],
      "execution_count": 5,
      "outputs": [
        {
          "output_type": "stream",
          "text": [
            "--2019-11-16 00:09:12--  https://raw.githubusercontent.com/elbixos/M2_Connectionnisme/master/DeepMim/Sources/mymodel.py\n",
            "Resolving raw.githubusercontent.com (raw.githubusercontent.com)... 151.101.0.133, 151.101.64.133, 151.101.128.133, ...\n",
            "Connecting to raw.githubusercontent.com (raw.githubusercontent.com)|151.101.0.133|:443... connected.\n",
            "HTTP request sent, awaiting response... 200 OK\n",
            "Length: 538 [text/plain]\n",
            "Saving to: ‘mymodel.py’\n",
            "\n",
            "\rmymodel.py            0%[                    ]       0  --.-KB/s               \rmymodel.py          100%[===================>]     538  --.-KB/s    in 0s      \n",
            "\n",
            "2019-11-16 00:09:12 (108 MB/s) - ‘mymodel.py’ saved [538/538]\n",
            "\n",
            "from __future__ import absolute_import, division, print_function, unicode_literals\n",
            "\n",
            "import tensorflow as tf\n",
            "from tensorflow.keras import layers\n",
            "from tensorflow import keras\n",
            "\n",
            "def build_model():\n",
            "    model = keras.Sequential([\n",
            "      layers.Dense(32, activation='relu', input_shape=[4,]),\n",
            "      layers.Dense(32, activation='relu'),\n",
            "      layers.Dense(1)\n",
            "    ])\n",
            "\n",
            "    optimizer = tf.keras.optimizers.RMSprop(0.001)\n",
            "\n",
            "    model.compile(loss='mse',\n",
            "                  optimizer=optimizer,\n",
            "                  metrics=['mae', 'mse'])\n",
            "    return model\n"
          ],
          "name": "stdout"
        }
      ]
    },
    {
      "cell_type": "code",
      "metadata": {
        "id": "UcX2oYFcKts3",
        "colab_type": "code",
        "outputId": "a132a681-738d-4523-b368-1fd35b4a2ae0",
        "colab": {
          "base_uri": "https://localhost:8080/",
          "height": 112
        }
      },
      "source": [
        "import mymodel \n",
        "model = mymodel.build_model()\n",
        "model"
      ],
      "execution_count": 6,
      "outputs": [
        {
          "output_type": "stream",
          "text": [
            "WARNING:tensorflow:From /usr/local/lib/python3.6/dist-packages/tensorflow_core/python/ops/resource_variable_ops.py:1630: calling BaseResourceVariable.__init__ (from tensorflow.python.ops.resource_variable_ops) with constraint is deprecated and will be removed in a future version.\n",
            "Instructions for updating:\n",
            "If using Keras pass *_constraint arguments to layers.\n"
          ],
          "name": "stdout"
        },
        {
          "output_type": "execute_result",
          "data": {
            "text/plain": [
              "<tensorflow.python.keras.engine.sequential.Sequential at 0x7fc01c507128>"
            ]
          },
          "metadata": {
            "tags": []
          },
          "execution_count": 6
        }
      ]
    },
    {
      "cell_type": "markdown",
      "metadata": {
        "id": "9lVb36jgK2Mh",
        "colab_type": "text"
      },
      "source": [
        "Et regarder sa tete..."
      ]
    },
    {
      "cell_type": "code",
      "metadata": {
        "id": "CwEdx2QlK5Ae",
        "colab_type": "code",
        "outputId": "58a035cb-f210-4485-e98e-59fed2bbdf08",
        "colab": {
          "base_uri": "https://localhost:8080/",
          "height": 279
        }
      },
      "source": [
        "model.summary()\n"
      ],
      "execution_count": 7,
      "outputs": [
        {
          "output_type": "stream",
          "text": [
            "Model: \"sequential\"\n",
            "_________________________________________________________________\n",
            "Layer (type)                 Output Shape              Param #   \n",
            "=================================================================\n",
            "dense (Dense)                (None, 32)                160       \n",
            "_________________________________________________________________\n",
            "dense_1 (Dense)              (None, 32)                1056      \n",
            "_________________________________________________________________\n",
            "dense_2 (Dense)              (None, 1)                 33        \n",
            "=================================================================\n",
            "Total params: 1,249\n",
            "Trainable params: 1,249\n",
            "Non-trainable params: 0\n",
            "_________________________________________________________________\n"
          ],
          "name": "stdout"
        }
      ]
    },
    {
      "cell_type": "markdown",
      "metadata": {
        "id": "TNeMpPE_L6TL",
        "colab_type": "text"
      },
      "source": [
        "Essayons quelques prédictions"
      ]
    },
    {
      "cell_type": "code",
      "metadata": {
        "id": "qx-gj2qYL81Z",
        "colab_type": "code",
        "outputId": "9a1edf12-a822-4262-8270-b6010ef34d57",
        "colab": {
          "base_uri": "https://localhost:8080/",
          "height": 206
        }
      },
      "source": [
        "example_batch = dataset[:5]\n",
        "example_batch"
      ],
      "execution_count": 8,
      "outputs": [
        {
          "output_type": "execute_result",
          "data": {
            "text/html": [
              "<div>\n",
              "<style scoped>\n",
              "    .dataframe tbody tr th:only-of-type {\n",
              "        vertical-align: middle;\n",
              "    }\n",
              "\n",
              "    .dataframe tbody tr th {\n",
              "        vertical-align: top;\n",
              "    }\n",
              "\n",
              "    .dataframe thead th {\n",
              "        text-align: right;\n",
              "    }\n",
              "</style>\n",
              "<table border=\"1\" class=\"dataframe\">\n",
              "  <thead>\n",
              "    <tr style=\"text-align: right;\">\n",
              "      <th></th>\n",
              "      <th>line1</th>\n",
              "      <th>line2</th>\n",
              "      <th>line3</th>\n",
              "      <th>line4</th>\n",
              "    </tr>\n",
              "  </thead>\n",
              "  <tbody>\n",
              "    <tr>\n",
              "      <th>0</th>\n",
              "      <td>0</td>\n",
              "      <td>0</td>\n",
              "      <td>0</td>\n",
              "      <td>0</td>\n",
              "    </tr>\n",
              "    <tr>\n",
              "      <th>1</th>\n",
              "      <td>1</td>\n",
              "      <td>0</td>\n",
              "      <td>0</td>\n",
              "      <td>0</td>\n",
              "    </tr>\n",
              "    <tr>\n",
              "      <th>2</th>\n",
              "      <td>1</td>\n",
              "      <td>1</td>\n",
              "      <td>0</td>\n",
              "      <td>0</td>\n",
              "    </tr>\n",
              "    <tr>\n",
              "      <th>3</th>\n",
              "      <td>2</td>\n",
              "      <td>0</td>\n",
              "      <td>0</td>\n",
              "      <td>0</td>\n",
              "    </tr>\n",
              "    <tr>\n",
              "      <th>4</th>\n",
              "      <td>2</td>\n",
              "      <td>1</td>\n",
              "      <td>0</td>\n",
              "      <td>0</td>\n",
              "    </tr>\n",
              "  </tbody>\n",
              "</table>\n",
              "</div>"
            ],
            "text/plain": [
              "   line1  line2  line3  line4\n",
              "0      0      0      0      0\n",
              "1      1      0      0      0\n",
              "2      1      1      0      0\n",
              "3      2      0      0      0\n",
              "4      2      1      0      0"
            ]
          },
          "metadata": {
            "tags": []
          },
          "execution_count": 8
        }
      ]
    },
    {
      "cell_type": "code",
      "metadata": {
        "id": "r9o8ar6Ffd8F",
        "colab_type": "code",
        "outputId": "2df6ea28-c571-4039-cf3d-8c608a51dcb1",
        "colab": {
          "base_uri": "https://localhost:8080/",
          "height": 111
        }
      },
      "source": [
        "example_result = model.predict(example_batch)\n",
        "example_result"
      ],
      "execution_count": 9,
      "outputs": [
        {
          "output_type": "execute_result",
          "data": {
            "text/plain": [
              "array([[0.        ],\n",
              "       [0.17580914],\n",
              "       [0.11191866],\n",
              "       [0.3516183 ],\n",
              "       [0.26782873]], dtype=float32)"
            ]
          },
          "metadata": {
            "tags": []
          },
          "execution_count": 9
        }
      ]
    },
    {
      "cell_type": "code",
      "metadata": {
        "id": "HwwhSrFalcCV",
        "colab_type": "code",
        "outputId": "ff9347d1-102a-4604-b3dd-851d0ed2b507",
        "colab": {
          "base_uri": "https://localhost:8080/",
          "height": 422
        }
      },
      "source": [
        "keras.utils.plot_model(model, 'my_first_model_with_shape_info.png', show_shapes=True)\n"
      ],
      "execution_count": 10,
      "outputs": [
        {
          "output_type": "execute_result",
          "data": {
            "image/png": "[encoded data removed]",
            "text/plain": [
              "<IPython.core.display.Image object>"
            ]
          },
          "metadata": {
            "tags": []
          },
          "execution_count": 10
        }
      ]
    },
    {
      "cell_type": "markdown",
      "metadata": {
        "id": "1es7VTdEMmH6",
        "colab_type": "text"
      },
      "source": [
        "Commencons l'entrainement"
      ]
    },
    {
      "cell_type": "code",
      "metadata": {
        "id": "tPX2_n12Mn8I",
        "colab_type": "code",
        "outputId": "4c40ca77-2a1f-447e-8709-31a5a3bf6910",
        "colab": {
          "base_uri": "https://localhost:8080/",
          "height": 243
        }
      },
      "source": [
        "# Display training progress by printing a single dot for each completed epoch\n",
        "class PrintDot(keras.callbacks.Callback):\n",
        "  def on_epoch_end(self, epoch, logs):\n",
        "    if epoch % 100 == 0: print('')\n",
        "    print('.', end='')\n",
        "\n",
        "EPOCHS = 1000\n",
        "\n",
        "history = model.fit(\n",
        "  dataset, train_labels,\n",
        "  epochs=EPOCHS, validation_split = 0.2, verbose=0,\n",
        "  callbacks=[PrintDot()])\n"
      ],
      "execution_count": 11,
      "outputs": [
        {
          "output_type": "stream",
          "text": [
            "\n",
            "....................................................................................................\n",
            "....................................................................................................\n",
            "....................................................................................................\n",
            "....................................................................................................\n",
            "....................................................................................................\n",
            "....................................................................................................\n",
            "....................................................................................................\n",
            "....................................................................................................\n",
            "....................................................................................................\n",
            "...................................................................................................."
          ],
          "name": "stdout"
        }
      ]
    },
    {
      "cell_type": "markdown",
      "metadata": {
        "id": "XvR0SbwzMzHG",
        "colab_type": "text"
      },
      "source": [
        "Voyons ce qui s'est passé"
      ]
    },
    {
      "cell_type": "code",
      "metadata": {
        "id": "D4_KNJY2M1Oo",
        "colab_type": "code",
        "outputId": "3e16d07c-b651-43e8-927f-a11dbb31c233",
        "colab": {
          "base_uri": "https://localhost:8080/",
          "height": 226
        }
      },
      "source": [
        "hist = pd.DataFrame(history.history)\n",
        "hist['epoch'] = history.epoch\n",
        "hist.tail()\n"
      ],
      "execution_count": 12,
      "outputs": [
        {
          "output_type": "execute_result",
          "data": {
            "text/html": [
              "<div>\n",
              "<style scoped>\n",
              "    .dataframe tbody tr th:only-of-type {\n",
              "        vertical-align: middle;\n",
              "    }\n",
              "\n",
              "    .dataframe tbody tr th {\n",
              "        vertical-align: top;\n",
              "    }\n",
              "\n",
              "    .dataframe thead th {\n",
              "        text-align: right;\n",
              "    }\n",
              "</style>\n",
              "<table border=\"1\" class=\"dataframe\">\n",
              "  <thead>\n",
              "    <tr style=\"text-align: right;\">\n",
              "      <th></th>\n",
              "      <th>loss</th>\n",
              "      <th>mean_absolute_error</th>\n",
              "      <th>mean_squared_error</th>\n",
              "      <th>val_loss</th>\n",
              "      <th>val_mean_absolute_error</th>\n",
              "      <th>val_mean_squared_error</th>\n",
              "      <th>epoch</th>\n",
              "    </tr>\n",
              "  </thead>\n",
              "  <tbody>\n",
              "    <tr>\n",
              "      <th>995</th>\n",
              "      <td>0.308492</td>\n",
              "      <td>0.420884</td>\n",
              "      <td>0.308492</td>\n",
              "      <td>0.750313</td>\n",
              "      <td>0.693269</td>\n",
              "      <td>0.750313</td>\n",
              "      <td>995</td>\n",
              "    </tr>\n",
              "    <tr>\n",
              "      <th>996</th>\n",
              "      <td>0.307576</td>\n",
              "      <td>0.428654</td>\n",
              "      <td>0.307576</td>\n",
              "      <td>0.728588</td>\n",
              "      <td>0.664786</td>\n",
              "      <td>0.728588</td>\n",
              "      <td>996</td>\n",
              "    </tr>\n",
              "    <tr>\n",
              "      <th>997</th>\n",
              "      <td>0.306809</td>\n",
              "      <td>0.424150</td>\n",
              "      <td>0.306809</td>\n",
              "      <td>0.834412</td>\n",
              "      <td>0.801401</td>\n",
              "      <td>0.834412</td>\n",
              "      <td>997</td>\n",
              "    </tr>\n",
              "    <tr>\n",
              "      <th>998</th>\n",
              "      <td>0.320066</td>\n",
              "      <td>0.438080</td>\n",
              "      <td>0.320066</td>\n",
              "      <td>0.791929</td>\n",
              "      <td>0.665691</td>\n",
              "      <td>0.791929</td>\n",
              "      <td>998</td>\n",
              "    </tr>\n",
              "    <tr>\n",
              "      <th>999</th>\n",
              "      <td>0.320437</td>\n",
              "      <td>0.435980</td>\n",
              "      <td>0.320437</td>\n",
              "      <td>0.759538</td>\n",
              "      <td>0.652305</td>\n",
              "      <td>0.759538</td>\n",
              "      <td>999</td>\n",
              "    </tr>\n",
              "  </tbody>\n",
              "</table>\n",
              "</div>"
            ],
            "text/plain": [
              "         loss  mean_absolute_error  ...  val_mean_squared_error  epoch\n",
              "995  0.308492             0.420884  ...                0.750313    995\n",
              "996  0.307576             0.428654  ...                0.728588    996\n",
              "997  0.306809             0.424150  ...                0.834412    997\n",
              "998  0.320066             0.438080  ...                0.791929    998\n",
              "999  0.320437             0.435980  ...                0.759538    999\n",
              "\n",
              "[5 rows x 7 columns]"
            ]
          },
          "metadata": {
            "tags": []
          },
          "execution_count": 12
        }
      ]
    },
    {
      "cell_type": "markdown",
      "metadata": {
        "id": "jeII0Oc6NQi-",
        "colab_type": "text"
      },
      "source": [
        "Avec une courbe"
      ]
    },
    {
      "cell_type": "code",
      "metadata": {
        "id": "MdwcO8u9NR8W",
        "colab_type": "code",
        "outputId": "6e5a7846-4763-40a9-f841-b12c42b45757",
        "colab": {
          "base_uri": "https://localhost:8080/",
          "height": 549
        }
      },
      "source": [
        "import matplotlib.pyplot as plt\n",
        "\n",
        "\n",
        "def plot_history(history):\n",
        "  hist = pd.DataFrame(history.history)\n",
        "  hist['epoch'] = history.epoch\n",
        "\n",
        "  plt.figure()\n",
        "  plt.xlabel('Epoch')\n",
        "  plt.ylabel('Mean Abs Error [eval]')\n",
        "  plt.plot(hist['epoch'], hist['mean_absolute_error'],\n",
        "           label='Train Error')\n",
        "  plt.plot(hist['epoch'], hist['val_mean_absolute_error'],\n",
        "           label = 'Val Error')\n",
        "  plt.ylim([0,5])\n",
        "  plt.legend()\n",
        "\n",
        "  plt.figure()\n",
        "  plt.xlabel('Epoch')\n",
        "  plt.ylabel('Mean Square Error [$eval^2$]')\n",
        "  plt.plot(hist['epoch'], hist['mean_squared_error'],\n",
        "           label='Train Error')\n",
        "  plt.plot(hist['epoch'], hist['val_mean_squared_error'],\n",
        "           label = 'Val Error')\n",
        "  plt.ylim([0,20])\n",
        "  plt.legend()\n",
        "  plt.show()\n",
        "\n",
        "\n",
        "plot_history(history)\n"
      ],
      "execution_count": 13,
      "outputs": [
        {
          "output_type": "display_data",
          "data": {
            "image/png": "[encoded data removed]",
            "text/plain": [
              "<Figure size 432x288 with 1 Axes>"
            ]
          },
          "metadata": {
            "tags": []
          }
        },
        {
          "output_type": "display_data",
          "data": {
            "image/png": "[encoded data removed]",
            "text/plain": [
              "<Figure size 432x288 with 1 Axes>"
            ]
          },
          "metadata": {
            "tags": []
          }
        }
      ]
    },
    {
      "cell_type": "markdown",
      "metadata": {
        "id": "xYP58eaeQ246",
        "colab_type": "text"
      },
      "source": [
        "Revoyons ce qui se passe maintenant en prédiction"
      ]
    },
    {
      "cell_type": "code",
      "metadata": {
        "id": "aNz2GG9JQ6Tl",
        "colab_type": "code",
        "outputId": "c96cd24e-228a-4e5b-9212-027bf05f7c76",
        "colab": {
          "base_uri": "https://localhost:8080/",
          "height": 111
        }
      },
      "source": [
        "example_batch = dataset[:5]\n",
        "example_result = model.predict(example_batch)\n",
        "example_result\n"
      ],
      "execution_count": 14,
      "outputs": [
        {
          "output_type": "execute_result",
          "data": {
            "text/plain": [
              "array([[ 1.0084244 ],\n",
              "       [-0.62945205],\n",
              "       [ 1.0140965 ],\n",
              "       [ 0.275212  ],\n",
              "       [ 1.1120468 ]], dtype=float32)"
            ]
          },
          "metadata": {
            "tags": []
          },
          "execution_count": 14
        }
      ]
    },
    {
      "cell_type": "markdown",
      "metadata": {
        "id": "JDRY__fORPDf",
        "colab_type": "text"
      },
      "source": [
        "Et on attendait"
      ]
    },
    {
      "cell_type": "code",
      "metadata": {
        "id": "Ig1-ThxHRROI",
        "colab_type": "code",
        "outputId": "ffa9ce79-e7cb-4344-dc98-ac2705a051f1",
        "colab": {
          "base_uri": "https://localhost:8080/",
          "height": 129
        }
      },
      "source": [
        "\n",
        "examples_labels = train_labels[:5]\n",
        "examples_labels"
      ],
      "execution_count": 15,
      "outputs": [
        {
          "output_type": "execute_result",
          "data": {
            "text/plain": [
              "0    1\n",
              "1   -1\n",
              "2    1\n",
              "3    1\n",
              "4    1\n",
              "Name: eval, dtype: int64"
            ]
          },
          "metadata": {
            "tags": []
          },
          "execution_count": 15
        }
      ]
    },
    {
      "cell_type": "markdown",
      "metadata": {
        "id": "3Kfz-ElgRUm5",
        "colab_type": "text"
      },
      "source": [
        "Ca semble pas mal !"
      ]
    },
    {
      "cell_type": "markdown",
      "metadata": {
        "id": "JBoV2YsdSuMS",
        "colab_type": "text"
      },
      "source": [
        "Essayons de sauver le model pendant l'apprentissage"
      ]
    },
    {
      "cell_type": "code",
      "metadata": {
        "id": "c2-sCl7qTAsb",
        "colab_type": "code",
        "outputId": "668a97f1-235c-45bc-8da7-bc5d6a2e69bd",
        "colab": {
          "base_uri": "https://localhost:8080/",
          "height": 1000
        }
      },
      "source": [
        "import os\n",
        "import tensorflow as tf\n",
        "\n",
        "checkpoint_path = \"training_1/cp.ckpt\"\n",
        "checkpoint_dir = os.path.dirname(checkpoint_path)\n",
        "nSamples = dataset.shape[0]\n",
        "print(nSamples)\n",
        "\n",
        "# Create a callback that saves the model's weights\n",
        "cp_callback = tf.keras.callbacks.ModelCheckpoint(filepath=checkpoint_path,\n",
        "                                                 save_weights_only=True,\n",
        "                                                 save_freq = nSamples*100,\n",
        "                                                 verbose=1)\n",
        "\n",
        "\n",
        "\n",
        "# Display training progress by printing a single dot for each completed epoch\n",
        "class PrintDot(keras.callbacks.Callback):\n",
        "  def on_epoch_end(self, epoch, logs):\n",
        "    if epoch % 100 == 0: print('')\n",
        "    print('.', end='')\n",
        "\n",
        "EPOCHS = 2000\n",
        "\n",
        "history = model.fit(\n",
        "  dataset, train_labels,\n",
        "  epochs=EPOCHS,  verbose=0, shuffle=True,\n",
        "  callbacks=[PrintDot(),cp_callback])\n"
      ],
      "execution_count": 16,
      "outputs": [
        {
          "output_type": "stream",
          "text": [
            "143\n",
            "\n",
            "...................................................................................................\n",
            "Epoch 00100: saving model to training_1/cp.ckpt\n",
            ".\n",
            "...................................................................................................\n",
            "Epoch 00200: saving model to training_1/cp.ckpt\n",
            ".\n",
            "...................................................................................................\n",
            "Epoch 00300: saving model to training_1/cp.ckpt\n",
            ".\n",
            "...................................................................................................\n",
            "Epoch 00400: saving model to training_1/cp.ckpt\n",
            ".\n",
            "...................................................................................................\n",
            "Epoch 00500: saving model to training_1/cp.ckpt\n",
            ".\n",
            "...................................................................................................\n",
            "Epoch 00600: saving model to training_1/cp.ckpt\n",
            ".\n",
            "...................................................................................................\n",
            "Epoch 00700: saving model to training_1/cp.ckpt\n",
            ".\n",
            "...................................................................................................\n",
            "Epoch 00800: saving model to training_1/cp.ckpt\n",
            ".\n",
            "...................................................................................................\n",
            "Epoch 00900: saving model to training_1/cp.ckpt\n",
            ".\n",
            "...................................................................................................\n",
            "Epoch 01000: saving model to training_1/cp.ckpt\n",
            ".\n",
            "...................................................................................................\n",
            "Epoch 01100: saving model to training_1/cp.ckpt\n",
            ".\n",
            "...................................................................................................\n",
            "Epoch 01200: saving model to training_1/cp.ckpt\n",
            ".\n",
            "...................................................................................................\n",
            "Epoch 01300: saving model to training_1/cp.ckpt\n",
            ".\n",
            "...................................................................................................\n",
            "Epoch 01400: saving model to training_1/cp.ckpt\n",
            ".\n",
            "...................................................................................................\n",
            "Epoch 01500: saving model to training_1/cp.ckpt\n",
            ".\n",
            "...................................................................................................\n",
            "Epoch 01600: saving model to training_1/cp.ckpt\n",
            ".\n",
            "...................................................................................................\n",
            "Epoch 01700: saving model to training_1/cp.ckpt\n",
            ".\n",
            "...................................................................................................\n",
            "Epoch 01800: saving model to training_1/cp.ckpt\n",
            ".\n",
            "...................................................................................................\n",
            "Epoch 01900: saving model to training_1/cp.ckpt\n",
            ".\n",
            "...................................................................................................\n",
            "Epoch 02000: saving model to training_1/cp.ckpt\n",
            "."
          ],
          "name": "stdout"
        }
      ]
    },
    {
      "cell_type": "markdown",
      "metadata": {
        "id": "UbottxobU44K",
        "colab_type": "text"
      },
      "source": [
        "Pour charger ce model, on ferait"
      ]
    },
    {
      "cell_type": "code",
      "metadata": {
        "id": "kubq54kmU9c6",
        "colab_type": "code",
        "outputId": "65e17882-c7d1-4b19-9d8f-aa652d18efc8",
        "colab": {
          "base_uri": "https://localhost:8080/",
          "height": 36
        }
      },
      "source": [
        "# Create a basic model instance\n",
        "model2 = mymodel.build_model()\n",
        "\n",
        "# Loads the weights\n",
        "model2.load_weights(checkpoint_path)"
      ],
      "execution_count": 17,
      "outputs": [
        {
          "output_type": "execute_result",
          "data": {
            "text/plain": [
              "<tensorflow.python.training.tracking.util.CheckpointLoadStatus at 0x7fbff81ee940>"
            ]
          },
          "metadata": {
            "tags": []
          },
          "execution_count": 17
        }
      ]
    },
    {
      "cell_type": "markdown",
      "metadata": {
        "id": "4edTay5vVWvM",
        "colab_type": "text"
      },
      "source": [
        "Testons ce modele :"
      ]
    },
    {
      "cell_type": "code",
      "metadata": {
        "id": "lWtFqHmPVY5K",
        "colab_type": "code",
        "outputId": "ea2acd46-0c90-44c9-d032-eb4df0ab4c57",
        "colab": {
          "base_uri": "https://localhost:8080/",
          "height": 111
        }
      },
      "source": [
        "example_batch = dataset[:5]\n",
        "example_result = model.predict(example_batch)\n",
        "example_result\n"
      ],
      "execution_count": 18,
      "outputs": [
        {
          "output_type": "execute_result",
          "data": {
            "text/plain": [
              "array([[ 1.0636276 ],\n",
              "       [-0.91214865],\n",
              "       [ 1.1209279 ],\n",
              "       [ 0.6285796 ],\n",
              "       [ 1.3423142 ]], dtype=float32)"
            ]
          },
          "metadata": {
            "tags": []
          },
          "execution_count": 18
        }
      ]
    },
    {
      "cell_type": "markdown",
      "metadata": {
        "id": "AqGE1-w_VaFf",
        "colab_type": "text"
      },
      "source": [
        "pour un résultat attendu de :"
      ]
    },
    {
      "cell_type": "code",
      "metadata": {
        "id": "2208d-oIVgQ9",
        "colab_type": "code",
        "colab": {
          "base_uri": "https://localhost:8080/",
          "height": 129
        },
        "outputId": "232cece4-3f1b-4b63-a280-e48b0b54fc65"
      },
      "source": [
        "\n",
        "examples_labels = train_labels[:5]\n",
        "examples_labels"
      ],
      "execution_count": 19,
      "outputs": [
        {
          "output_type": "execute_result",
          "data": {
            "text/plain": [
              "0    1\n",
              "1   -1\n",
              "2    1\n",
              "3    1\n",
              "4    1\n",
              "Name: eval, dtype: int64"
            ]
          },
          "metadata": {
            "tags": []
          },
          "execution_count": 19
        }
      ]
    },
    {
      "cell_type": "markdown",
      "metadata": {
        "id": "sml0NHoiTuY6",
        "colab_type": "text"
      },
      "source": [
        "On aurait aussi pu faire..."
      ]
    },
    {
      "cell_type": "code",
      "metadata": {
        "id": "CgZ_60ZWTzw0",
        "colab_type": "code",
        "colab": {
          "base_uri": "https://localhost:8080/",
          "height": 54
        },
        "outputId": "f0dc6d5c-81c8-40cd-a81b-7c7b89a0e801"
      },
      "source": [
        "# Save the weights\n",
        "model.save_weights('./checkpoints/my_checkpoint')\n",
        "\n",
        "# Create a new model instance\n",
        "model3 = mymodel.build_model()\n",
        "\n",
        "# Restore the weights\n",
        "model3.load_weights('./checkpoints/my_checkpoint')\n",
        "\n",
        "# Evaluate the model\n",
        "loss,mae,mse= model3.evaluate(dataset,  train_labels, verbose=2)\n",
        "print(loss)\n"
      ],
      "execution_count": 21,
      "outputs": [
        {
          "output_type": "stream",
          "text": [
            "143/143 - 0s - loss: 0.2053 - mean_absolute_error: 0.3222 - mean_squared_error: 0.2053\n",
            "0.20529565506881767\n"
          ],
          "name": "stdout"
        }
      ]
    },
    {
      "cell_type": "markdown",
      "metadata": {
        "id": "MRRDSt39b3ms",
        "colab_type": "text"
      },
      "source": [
        "Voyons une utilisation en prédiction telle qu'elle serait faite dans le jeu...\n"
      ]
    },
    {
      "cell_type": "code",
      "metadata": {
        "id": "H0LesOXccG1b",
        "colab_type": "code",
        "colab": {
          "base_uri": "https://localhost:8080/",
          "height": 54
        },
        "outputId": "7cdb600d-232c-4922-f78c-65196a29d21e"
      },
      "source": [
        "import numpy as np\n",
        "\n",
        "board=[7,5,3,1]\n",
        "npboard = np.asarray([board])\n",
        "print(npboard.shape)\n",
        "model2.predict(npboard)"
      ],
      "execution_count": 22,
      "outputs": [
        {
          "output_type": "stream",
          "text": [
            "(1, 4)\n"
          ],
          "name": "stdout"
        },
        {
          "output_type": "execute_result",
          "data": {
            "text/plain": [
              "array([[-0.6901854]], dtype=float32)"
            ]
          },
          "metadata": {
            "tags": []
          },
          "execution_count": 22
        }
      ]
    },
    {
      "cell_type": "markdown",
      "metadata": {
        "id": "pMtTVga5Ggps",
        "colab_type": "text"
      },
      "source": [
        "Evaluons la qualité de notre apprentissage"
      ]
    },
    {
      "cell_type": "code",
      "metadata": {
        "id": "BHbEu71IGojG",
        "colab_type": "code",
        "outputId": "6e7d4cef-ecbe-4a6f-adb1-a687c2fdfd4a",
        "colab": {
          "base_uri": "https://localhost:8080/",
          "height": 505
        }
      },
      "source": [
        "!wget https://raw.githubusercontent.com/elbixos/M2_Connectionnisme/master/DeepMim/Sources/testLearningEvaluation.py\n",
        "!python testLearningEvaluation.py"
      ],
      "execution_count": 23,
      "outputs": [
        {
          "output_type": "stream",
          "text": [
            "--2019-11-16 00:10:02--  https://raw.githubusercontent.com/elbixos/M2_Connectionnisme/master/DeepMim/Sources/testLearningEvaluation.py\n",
            "Resolving raw.githubusercontent.com (raw.githubusercontent.com)... 151.101.0.133, 151.101.64.133, 151.101.128.133, ...\n",
            "Connecting to raw.githubusercontent.com (raw.githubusercontent.com)|151.101.0.133|:443... connected.\n",
            "HTTP request sent, awaiting response... 200 OK\n",
            "Length: 1201 (1.2K) [text/plain]\n",
            "Saving to: ‘testLearningEvaluation.py’\n",
            "\n",
            "\r          testLearn   0%[                    ]       0  --.-KB/s               \rtestLearningEvaluat 100%[===================>]   1.17K  --.-KB/s    in 0s      \n",
            "\n",
            "2019-11-16 00:10:02 (397 MB/s) - ‘testLearningEvaluation.py’ saved [1201/1201]\n",
            "\n",
            "WARNING:tensorflow:From /usr/local/lib/python3.6/dist-packages/tensorflow_core/python/ops/resource_variable_ops.py:1630: calling BaseResourceVariable.__init__ (from tensorflow.python.ops.resource_variable_ops) with constraint is deprecated and will be removed in a future version.\n",
            "Instructions for updating:\n",
            "If using Keras pass *_constraint arguments to layers.\n",
            "2019-11-16 00:10:06.921576: I tensorflow/core/platform/profile_utils/cpu_utils.cc:94] CPU Frequency: 2300000000 Hz\n",
            "2019-11-16 00:10:06.921841: I tensorflow/compiler/xla/service/service.cc:168] XLA service 0x2b05800 initialized for platform Host (this does not guarantee that XLA will be used). Devices:\n",
            "2019-11-16 00:10:06.921875: I tensorflow/compiler/xla/service/service.cc:176]   StreamExecutor device (0): Host, Default Version\n",
            "23 [ 5 0 0 0 ] -1 0.86116\n",
            "25 [ 5 1 1 0 ] -1 0.07514294\n",
            "53 [ 5 2 2 1 ] -1 0.45327017\n",
            "89 [ 6 3 1 0 ] -1 0.5095753\n",
            "117 [ 7 2 1 0 ] -1 0.0061431765\n",
            "133 [ 7 4 2 1 ] -1 0.47643963\n",
            "134 [ 7 4 3 0 ] -1 0.054376803\n",
            "Nb errors 7\n"
          ],
          "name": "stdout"
        }
      ]
    },
    {
      "cell_type": "code",
      "metadata": {
        "id": "DHZ_FlQhNmSG",
        "colab_type": "code",
        "colab": {
          "base_uri": "https://localhost:8080/",
          "height": 167
        },
        "outputId": "9228825c-c0a1-4f2e-ce91-db374925da31"
      },
      "source": [
        "def computeErrors(x,labels, predictions):\n",
        "  truths = labels.values\n",
        "  nbErrors=0\n",
        "  for i in range(len(truths)) :\n",
        "    if truths[i]*predictions[i][0] <=0 :\n",
        "      nbErrors += 1\n",
        "      print(i,x.iloc[i,0],x.iloc[i,1],x.iloc[i,2],x.iloc[i,3],truths[i],predictions[i][0])\n",
        "  return nbErrors\n",
        "\n",
        "pred = model2.predict(dataset)\n",
        "\n",
        "computeErrors(dataset,train_labels,pred)"
      ],
      "execution_count": 25,
      "outputs": [
        {
          "output_type": "stream",
          "text": [
            "23 5 0 0 0 -1 0.86116\n",
            "25 5 1 1 0 -1 0.07514294\n",
            "53 5 2 2 1 -1 0.45327017\n",
            "89 6 3 1 0 -1 0.5095753\n",
            "117 7 2 1 0 -1 0.0061431765\n",
            "133 7 4 2 1 -1 0.47643963\n",
            "134 7 4 3 0 -1 0.054376803\n"
          ],
          "name": "stdout"
        },
        {
          "output_type": "execute_result",
          "data": {
            "text/plain": [
              "7"
            ]
          },
          "metadata": {
            "tags": []
          },
          "execution_count": 25
        }
      ]
    },
    {
      "cell_type": "markdown",
      "metadata": {
        "id": "9WVjiIQH76S2",
        "colab_type": "text"
      },
      "source": [
        "Incrustons tout ceci dans un jeu d'allumettes"
      ]
    },
    {
      "cell_type": "code",
      "metadata": {
        "id": "F9phNiMT8H09",
        "colab_type": "code",
        "outputId": "d1d4877a-5b01-44bd-9cf4-a5872f675c11",
        "colab": {
          "base_uri": "https://localhost:8080/",
          "height": 243
        }
      },
      "source": [
        "!wget https://raw.githubusercontent.com/elbixos/M2_Connectionnisme/master/DeepMim/Sources/player.py"
      ],
      "execution_count": 26,
      "outputs": [
        {
          "output_type": "stream",
          "text": [
            "--2019-11-16 00:10:20--  https://raw.githubusercontent.com/elbixos/M2_Connectionnisme/master/DeepMim/Sources/player.py\n",
            "Resolving raw.githubusercontent.com (raw.githubusercontent.com)... 151.101.0.133, 151.101.64.133, 151.101.128.133, ...\n",
            "Connecting to raw.githubusercontent.com (raw.githubusercontent.com)|151.101.0.133|:443... connected.\n",
            "HTTP request sent, awaiting response... 200 OK\n",
            "Length: 5862 (5.7K) [text/plain]\n",
            "Saving to: ‘player.py’\n",
            "\n",
            "\rplayer.py             0%[                    ]       0  --.-KB/s               \rplayer.py           100%[===================>]   5.72K  --.-KB/s    in 0s      \n",
            "\n",
            "2019-11-16 00:10:20 (80.9 MB/s) - ‘player.py’ saved [5862/5862]\n",
            "\n"
          ],
          "name": "stdout"
        }
      ]
    },
    {
      "cell_type": "markdown",
      "metadata": {
        "id": "kG8gPzTp9CPy",
        "colab_type": "text"
      },
      "source": [
        "Et on va pouvoir tester"
      ]
    },
    {
      "cell_type": "code",
      "metadata": {
        "id": "jdK3wCy79Y_G",
        "colab_type": "code",
        "outputId": "6524784f-0ab8-4cd5-9cbf-c7bb8fa40f0d",
        "colab": {
          "base_uri": "https://localhost:8080/",
          "height": 36
        }
      },
      "source": [
        "\n",
        "import player\n",
        "\n",
        "import random\n",
        "\n",
        "def displayBoard(board) :\n",
        "        \"\"\"\n",
        "        display the board\n",
        "        \"\"\"\n",
        "        for i in range(len(board)) :\n",
        "            print(i ,\":  \", end=\"\")\n",
        "            for j in range(board[i]) :\n",
        "                print(\"I\", end = \"\")\n",
        "            print(\"\")\n",
        "\n",
        "\n",
        "def drawMatches (line, nbMatches,board):\n",
        "    \"\"\"\n",
        "    Draw some matches on the current board.\n",
        "\n",
        "    It check if the proposal is valid.\n",
        "    \"\"\"\n",
        "    if (isValidStrategy(line, nbMatches,board)) :\n",
        "        board[line]-=nbMatches\n",
        "    else :\n",
        "        print (\"You tried something bad\")\n",
        "\n",
        "def isFinished (board):\n",
        "    \"\"\"\n",
        "    Tell if the game is finished or not\n",
        "    (finished if no matches remains)\n",
        "    \"\"\"\n",
        "    if countMatches(board) == 0:\n",
        "        return True\n",
        "    return False\n",
        "\n",
        "\n",
        "def countMatches (board):\n",
        "    \"\"\"\n",
        "    Count matches on the board\n",
        "    \"\"\"\n",
        "\n",
        "    nbAll =0\n",
        "    for ligne in board:\n",
        "        if ligne >= 0:\n",
        "            nbAll+=ligne\n",
        "    return nbAll\n",
        "\n",
        "def isValidStrategy (line, nbMatches, board):\n",
        "    \"\"\"\n",
        "    test if a strategy is valid for the current state of the Board\n",
        "\n",
        "    One could ask if a strategy is valid for a different board. If so,\n",
        "    pass the board as a parameter\n",
        "    \"\"\"\n",
        "    if (line < 0 or line >=4):\n",
        "        return False\n",
        "\n",
        "    if nbMatches < 1 or nbMatches >3 :\n",
        "        return False\n",
        "\n",
        "    if board[line]-nbMatches < 0:\n",
        "        return False\n",
        "\n",
        "    return True\n",
        "\n",
        "def changePlayer(numJoueur):\n",
        "    numJoueur = (numJoueur+1)%2\n",
        "    return numJoueur\n",
        "\n",
        "\n",
        "victories=0\n",
        "nbGames = 20\n",
        "\n",
        "p1=player.IADeepPlayer()\n",
        "p2=player.IARandomPlayer()\n",
        "\n",
        "\n",
        "for i in range(nbGames):\n",
        "\n",
        "    board = [7 , 5, 3, 1]\n",
        "    numJoueur = 0\n",
        "\n",
        "    #print (\"avec \",board ,\"j'aurais ce resultat\", evaluate(board,False,0))\n",
        "    #print (\"avec \",board ,\"je joue \", IAMakeChoice(board))\n",
        "\n",
        "\n",
        "\n",
        "    draw = random.random()\n",
        "    if draw <0.5:\n",
        "        players=[p1,p2]\n",
        "        IA=0\n",
        "    else :\n",
        "        players=[p2,p1]\n",
        "        IA=1\n",
        "\n",
        "\n",
        "    while(not isFinished(board)):\n",
        "            line, nbMatches = players[numJoueur].makeChoice(board)\n",
        "            drawMatches(line, nbMatches,board)\n",
        "            numJoueur = changePlayer(numJoueur)\n",
        "\n",
        "    if numJoueur == IA:\n",
        "        victories+=1\n",
        "\n",
        "print (\"IA wins in \",victories, \"over \",nbGames)\n"
      ],
      "execution_count": 28,
      "outputs": [
        {
          "output_type": "stream",
          "text": [
            "IA wins in  20 over  20\n"
          ],
          "name": "stdout"
        }
      ]
    }
  ]
}