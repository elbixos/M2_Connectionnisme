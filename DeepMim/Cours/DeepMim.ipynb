{
  "nbformat": 4,
  "nbformat_minor": 0,
  "metadata": {
    "colab": {
      "name": "DeepMim.ipynb",
      "provenance": [],
      "toc_visible": true,
      "include_colab_link": true
    },
    "kernelspec": {
      "name": "python3",
      "display_name": "Python 3"
    }
  },
  "cells": [
    {
      "cell_type": "markdown",
      "metadata": {
        "id": "view-in-github",
        "colab_type": "text"
      },
      "source": [
        "<a href=\"https://colab.research.google.com/github/elbixos/M2_Connectionnisme/blob/master/DeepMim/Cours/DeepMim.ipynb\" target=\"_parent\"><img src=\"https://colab.research.google.com/assets/colab-badge.svg\" alt=\"Open In Colab\"/></a>"
      ]
    },
    {
      "cell_type": "markdown",
      "metadata": {
        "id": "49RSPpBJJKbb",
        "colab_type": "text"
      },
      "source": [
        "Commencons par charger nos données"
      ]
    },
    {
      "cell_type": "code",
      "metadata": {
        "id": "p00XmqAzJDT6",
        "colab_type": "code",
        "outputId": "264b7ecb-3fbf-4885-86fe-e277d59b66e8",
        "colab": {
          "base_uri": "https://localhost:8080/",
          "height": 270
        }
      },
      "source": [
        "\n",
        "import pandas as pd\n",
        "from tensorflow import keras\n",
        "\n",
        "dataset_path = keras.utils.get_file(\"evalMim.csv\", \"https://raw.githubusercontent.com/elbixos/M2_Connectionnisme/master/DeepMim/Sources/evalMim.csv\")\n",
        "\n",
        "\n",
        "column_names = ['line1','line2','line3','line4','eval']\n",
        "raw_dataset = pd.read_csv(dataset_path, names=column_names,\n",
        "                      na_values = \"?\", comment='\\t',\n",
        "                      sep=\",\", skipinitialspace=True)\n",
        "\n",
        "dataset = raw_dataset.copy()\n",
        "dataset.tail()\n"
      ],
      "execution_count": 1,
      "outputs": [
        {
          "output_type": "display_data",
          "data": {
            "text/html": [
              "<p style=\"color: red;\">\n",
              "The default version of TensorFlow in Colab will soon switch to TensorFlow 2.x.<br>\n",
              "We recommend you <a href=\"https://www.tensorflow.org/guide/migrate\" target=\"_blank\">upgrade</a> now \n",
              "or ensure your notebook will continue to use TensorFlow 1.x via the <code>%tensorflow_version 1.x</code> magic:\n",
              "<a href=\"https://colab.research.google.com/notebooks/tensorflow_version.ipynb\" target=\"_blank\">more info</a>.</p>\n"
            ],
            "text/plain": [
              "<IPython.core.display.HTML object>"
            ]
          },
          "metadata": {
            "tags": []
          }
        },
        {
          "output_type": "execute_result",
          "data": {
            "text/html": [
              "<div>\n",
              "<style scoped>\n",
              "    .dataframe tbody tr th:only-of-type {\n",
              "        vertical-align: middle;\n",
              "    }\n",
              "\n",
              "    .dataframe tbody tr th {\n",
              "        vertical-align: top;\n",
              "    }\n",
              "\n",
              "    .dataframe thead th {\n",
              "        text-align: right;\n",
              "    }\n",
              "</style>\n",
              "<table border=\"1\" class=\"dataframe\">\n",
              "  <thead>\n",
              "    <tr style=\"text-align: right;\">\n",
              "      <th></th>\n",
              "      <th>line1</th>\n",
              "      <th>line2</th>\n",
              "      <th>line3</th>\n",
              "      <th>line4</th>\n",
              "      <th>eval</th>\n",
              "    </tr>\n",
              "  </thead>\n",
              "  <tbody>\n",
              "    <tr>\n",
              "      <th>138</th>\n",
              "      <td>7</td>\n",
              "      <td>5</td>\n",
              "      <td>1</td>\n",
              "      <td>1</td>\n",
              "      <td>1</td>\n",
              "    </tr>\n",
              "    <tr>\n",
              "      <th>139</th>\n",
              "      <td>7</td>\n",
              "      <td>5</td>\n",
              "      <td>2</td>\n",
              "      <td>0</td>\n",
              "      <td>-1</td>\n",
              "    </tr>\n",
              "    <tr>\n",
              "      <th>140</th>\n",
              "      <td>7</td>\n",
              "      <td>5</td>\n",
              "      <td>2</td>\n",
              "      <td>1</td>\n",
              "      <td>1</td>\n",
              "    </tr>\n",
              "    <tr>\n",
              "      <th>141</th>\n",
              "      <td>7</td>\n",
              "      <td>5</td>\n",
              "      <td>3</td>\n",
              "      <td>0</td>\n",
              "      <td>1</td>\n",
              "    </tr>\n",
              "    <tr>\n",
              "      <th>142</th>\n",
              "      <td>7</td>\n",
              "      <td>5</td>\n",
              "      <td>3</td>\n",
              "      <td>1</td>\n",
              "      <td>-1</td>\n",
              "    </tr>\n",
              "  </tbody>\n",
              "</table>\n",
              "</div>"
            ],
            "text/plain": [
              "     line1  line2  line3  line4  eval\n",
              "138      7      5      1      1     1\n",
              "139      7      5      2      0    -1\n",
              "140      7      5      2      1     1\n",
              "141      7      5      3      0     1\n",
              "142      7      5      3      1    -1"
            ]
          },
          "metadata": {
            "tags": []
          },
          "execution_count": 1
        }
      ]
    },
    {
      "cell_type": "markdown",
      "metadata": {
        "id": "0m1SdFIuHn3T",
        "colab_type": "text"
      },
      "source": [
        "Puis, on sépare le label (eval) des caractéristiques"
      ]
    },
    {
      "cell_type": "code",
      "metadata": {
        "id": "fYurn5OpHjaF",
        "colab_type": "code",
        "outputId": "389ecb99-16a1-4ce7-f639-25f3da417ba9",
        "colab": {
          "base_uri": "https://localhost:8080/",
          "height": 206
        }
      },
      "source": [
        "\n",
        "\n",
        "train_labels = dataset.pop('eval')\n",
        "dataset.tail()\n"
      ],
      "execution_count": 2,
      "outputs": [
        {
          "output_type": "execute_result",
          "data": {
            "text/html": [
              "<div>\n",
              "<style scoped>\n",
              "    .dataframe tbody tr th:only-of-type {\n",
              "        vertical-align: middle;\n",
              "    }\n",
              "\n",
              "    .dataframe tbody tr th {\n",
              "        vertical-align: top;\n",
              "    }\n",
              "\n",
              "    .dataframe thead th {\n",
              "        text-align: right;\n",
              "    }\n",
              "</style>\n",
              "<table border=\"1\" class=\"dataframe\">\n",
              "  <thead>\n",
              "    <tr style=\"text-align: right;\">\n",
              "      <th></th>\n",
              "      <th>line1</th>\n",
              "      <th>line2</th>\n",
              "      <th>line3</th>\n",
              "      <th>line4</th>\n",
              "    </tr>\n",
              "  </thead>\n",
              "  <tbody>\n",
              "    <tr>\n",
              "      <th>138</th>\n",
              "      <td>7</td>\n",
              "      <td>5</td>\n",
              "      <td>1</td>\n",
              "      <td>1</td>\n",
              "    </tr>\n",
              "    <tr>\n",
              "      <th>139</th>\n",
              "      <td>7</td>\n",
              "      <td>5</td>\n",
              "      <td>2</td>\n",
              "      <td>0</td>\n",
              "    </tr>\n",
              "    <tr>\n",
              "      <th>140</th>\n",
              "      <td>7</td>\n",
              "      <td>5</td>\n",
              "      <td>2</td>\n",
              "      <td>1</td>\n",
              "    </tr>\n",
              "    <tr>\n",
              "      <th>141</th>\n",
              "      <td>7</td>\n",
              "      <td>5</td>\n",
              "      <td>3</td>\n",
              "      <td>0</td>\n",
              "    </tr>\n",
              "    <tr>\n",
              "      <th>142</th>\n",
              "      <td>7</td>\n",
              "      <td>5</td>\n",
              "      <td>3</td>\n",
              "      <td>1</td>\n",
              "    </tr>\n",
              "  </tbody>\n",
              "</table>\n",
              "</div>"
            ],
            "text/plain": [
              "     line1  line2  line3  line4\n",
              "138      7      5      1      1\n",
              "139      7      5      2      0\n",
              "140      7      5      2      1\n",
              "141      7      5      3      0\n",
              "142      7      5      3      1"
            ]
          },
          "metadata": {
            "tags": []
          },
          "execution_count": 2
        }
      ]
    },
    {
      "cell_type": "markdown",
      "metadata": {
        "id": "aimh6DIgKZno",
        "colab_type": "text"
      },
      "source": [
        "On peut aussi voir les labels"
      ]
    },
    {
      "cell_type": "code",
      "metadata": {
        "id": "Ghi1JUCGdZ_i",
        "colab_type": "code",
        "outputId": "039ddb37-c094-476a-8061-63ea4735b51d",
        "colab": {
          "base_uri": "https://localhost:8080/",
          "height": 34
        }
      },
      "source": [
        "print(dataset.shape)"
      ],
      "execution_count": 3,
      "outputs": [
        {
          "output_type": "stream",
          "text": [
            "(143, 4)\n"
          ],
          "name": "stdout"
        }
      ]
    },
    {
      "cell_type": "code",
      "metadata": {
        "id": "6idME90GKci-",
        "colab_type": "code",
        "outputId": "2f4a0e18-8175-429e-d7a6-b7a9468b1930",
        "colab": {
          "base_uri": "https://localhost:8080/",
          "height": 121
        }
      },
      "source": [
        "\n",
        "train_labels.tail()\n"
      ],
      "execution_count": 4,
      "outputs": [
        {
          "output_type": "execute_result",
          "data": {
            "text/plain": [
              "138    1\n",
              "139   -1\n",
              "140    1\n",
              "141    1\n",
              "142   -1\n",
              "Name: eval, dtype: int64"
            ]
          },
          "metadata": {
            "tags": []
          },
          "execution_count": 4
        }
      ]
    },
    {
      "cell_type": "markdown",
      "metadata": {
        "id": "URmKAndPKqu7",
        "colab_type": "text"
      },
      "source": [
        "On peut maintenant construire le modele. Pour des raisons pratiques, je l'ai placé dans un fichier spécifique que nous allons récupérer.\n",
        "\n",
        "Je vous l'affiche mais vous ne pouvez pas le modifier aussi facilement que le reste. Pour l'editer, il faudra utiliser le **volet** de gauche qui vous donne accès aux fichiers téléhargés.\n"
      ]
    },
    {
      "cell_type": "code",
      "metadata": {
        "id": "iQ9NLYdvAff9",
        "colab_type": "code",
        "outputId": "4ab995a6-e172-47c3-b9f5-967307ab0cc8",
        "colab": {
          "base_uri": "https://localhost:8080/",
          "height": 558
        }
      },
      "source": [
        "!wget --no-http-keep-alive https://raw.githubusercontent.com/elbixos/M2_Connectionnisme/master/DeepMim/Sources/mymodel.py\n",
        "!cat mymodel.py"
      ],
      "execution_count": 5,
      "outputs": [
        {
          "output_type": "stream",
          "text": [
            "--2019-11-20 15:39:03--  https://raw.githubusercontent.com/elbixos/M2_Connectionnisme/master/DeepMim/Sources/mymodel.py\n",
            "Resolving raw.githubusercontent.com (raw.githubusercontent.com)... 151.101.0.133, 151.101.64.133, 151.101.128.133, ...\n",
            "Connecting to raw.githubusercontent.com (raw.githubusercontent.com)|151.101.0.133|:443... connected.\n",
            "HTTP request sent, awaiting response... 200 OK\n",
            "Length: 538 [text/plain]\n",
            "Saving to: ‘mymodel.py’\n",
            "\n",
            "\rmymodel.py            0%[                    ]       0  --.-KB/s               \rmymodel.py          100%[===================>]     538  --.-KB/s    in 0s      \n",
            "\n",
            "2019-11-20 15:39:03 (112 MB/s) - ‘mymodel.py’ saved [538/538]\n",
            "\n",
            "from __future__ import absolute_import, division, print_function, unicode_literals\n",
            "\n",
            "import tensorflow as tf\n",
            "from tensorflow.keras import layers\n",
            "from tensorflow import keras\n",
            "\n",
            "def build_model():\n",
            "    model = keras.Sequential([\n",
            "      layers.Dense(32, activation='relu', input_shape=[4,]),\n",
            "      layers.Dense(32, activation='relu'),\n",
            "      layers.Dense(1)\n",
            "    ])\n",
            "\n",
            "    optimizer = tf.keras.optimizers.RMSprop(0.001)\n",
            "\n",
            "    model.compile(loss='mse',\n",
            "                  optimizer=optimizer,\n",
            "                  metrics=['mae', 'mse'])\n",
            "    return model\n"
          ],
          "name": "stdout"
        }
      ]
    },
    {
      "cell_type": "code",
      "metadata": {
        "id": "UcX2oYFcKts3",
        "colab_type": "code",
        "outputId": "def55ccb-3921-46f8-c185-9a3cf93ec669",
        "colab": {
          "base_uri": "https://localhost:8080/",
          "height": 106
        }
      },
      "source": [
        "import mymodel \n",
        "model = mymodel.build_model()\n",
        "model"
      ],
      "execution_count": 6,
      "outputs": [
        {
          "output_type": "stream",
          "text": [
            "WARNING:tensorflow:From /usr/local/lib/python3.6/dist-packages/tensorflow_core/python/ops/resource_variable_ops.py:1630: calling BaseResourceVariable.__init__ (from tensorflow.python.ops.resource_variable_ops) with constraint is deprecated and will be removed in a future version.\n",
            "Instructions for updating:\n",
            "If using Keras pass *_constraint arguments to layers.\n"
          ],
          "name": "stdout"
        },
        {
          "output_type": "execute_result",
          "data": {
            "text/plain": [
              "<tensorflow.python.keras.engine.sequential.Sequential at 0x7fb7a6328198>"
            ]
          },
          "metadata": {
            "tags": []
          },
          "execution_count": 6
        }
      ]
    },
    {
      "cell_type": "markdown",
      "metadata": {
        "id": "9lVb36jgK2Mh",
        "colab_type": "text"
      },
      "source": [
        "Et regarder sa tete..."
      ]
    },
    {
      "cell_type": "code",
      "metadata": {
        "id": "CwEdx2QlK5Ae",
        "colab_type": "code",
        "outputId": "b13dcc3f-c043-4fc8-ec35-ab6510b56117",
        "colab": {
          "base_uri": "https://localhost:8080/",
          "height": 260
        }
      },
      "source": [
        "model.summary()\n"
      ],
      "execution_count": 7,
      "outputs": [
        {
          "output_type": "stream",
          "text": [
            "Model: \"sequential\"\n",
            "_________________________________________________________________\n",
            "Layer (type)                 Output Shape              Param #   \n",
            "=================================================================\n",
            "dense (Dense)                (None, 32)                160       \n",
            "_________________________________________________________________\n",
            "dense_1 (Dense)              (None, 32)                1056      \n",
            "_________________________________________________________________\n",
            "dense_2 (Dense)              (None, 1)                 33        \n",
            "=================================================================\n",
            "Total params: 1,249\n",
            "Trainable params: 1,249\n",
            "Non-trainable params: 0\n",
            "_________________________________________________________________\n"
          ],
          "name": "stdout"
        }
      ]
    },
    {
      "cell_type": "markdown",
      "metadata": {
        "id": "TNeMpPE_L6TL",
        "colab_type": "text"
      },
      "source": [
        "Essayons quelques prédictions"
      ]
    },
    {
      "cell_type": "code",
      "metadata": {
        "id": "qx-gj2qYL81Z",
        "colab_type": "code",
        "outputId": "79efd0cb-d0a0-4584-a656-945590a97a48",
        "colab": {
          "base_uri": "https://localhost:8080/",
          "height": 206
        }
      },
      "source": [
        "example_batch = dataset[:5]\n",
        "example_batch"
      ],
      "execution_count": 8,
      "outputs": [
        {
          "output_type": "execute_result",
          "data": {
            "text/html": [
              "<div>\n",
              "<style scoped>\n",
              "    .dataframe tbody tr th:only-of-type {\n",
              "        vertical-align: middle;\n",
              "    }\n",
              "\n",
              "    .dataframe tbody tr th {\n",
              "        vertical-align: top;\n",
              "    }\n",
              "\n",
              "    .dataframe thead th {\n",
              "        text-align: right;\n",
              "    }\n",
              "</style>\n",
              "<table border=\"1\" class=\"dataframe\">\n",
              "  <thead>\n",
              "    <tr style=\"text-align: right;\">\n",
              "      <th></th>\n",
              "      <th>line1</th>\n",
              "      <th>line2</th>\n",
              "      <th>line3</th>\n",
              "      <th>line4</th>\n",
              "    </tr>\n",
              "  </thead>\n",
              "  <tbody>\n",
              "    <tr>\n",
              "      <th>0</th>\n",
              "      <td>0</td>\n",
              "      <td>0</td>\n",
              "      <td>0</td>\n",
              "      <td>0</td>\n",
              "    </tr>\n",
              "    <tr>\n",
              "      <th>1</th>\n",
              "      <td>1</td>\n",
              "      <td>0</td>\n",
              "      <td>0</td>\n",
              "      <td>0</td>\n",
              "    </tr>\n",
              "    <tr>\n",
              "      <th>2</th>\n",
              "      <td>1</td>\n",
              "      <td>1</td>\n",
              "      <td>0</td>\n",
              "      <td>0</td>\n",
              "    </tr>\n",
              "    <tr>\n",
              "      <th>3</th>\n",
              "      <td>2</td>\n",
              "      <td>0</td>\n",
              "      <td>0</td>\n",
              "      <td>0</td>\n",
              "    </tr>\n",
              "    <tr>\n",
              "      <th>4</th>\n",
              "      <td>2</td>\n",
              "      <td>1</td>\n",
              "      <td>0</td>\n",
              "      <td>0</td>\n",
              "    </tr>\n",
              "  </tbody>\n",
              "</table>\n",
              "</div>"
            ],
            "text/plain": [
              "   line1  line2  line3  line4\n",
              "0      0      0      0      0\n",
              "1      1      0      0      0\n",
              "2      1      1      0      0\n",
              "3      2      0      0      0\n",
              "4      2      1      0      0"
            ]
          },
          "metadata": {
            "tags": []
          },
          "execution_count": 8
        }
      ]
    },
    {
      "cell_type": "code",
      "metadata": {
        "id": "r9o8ar6Ffd8F",
        "colab_type": "code",
        "outputId": "89685aa9-16fb-4fc6-ee1a-bf62d95a9b08",
        "colab": {
          "base_uri": "https://localhost:8080/",
          "height": 104
        }
      },
      "source": [
        "example_result = model.predict(example_batch)\n",
        "example_result"
      ],
      "execution_count": 9,
      "outputs": [
        {
          "output_type": "execute_result",
          "data": {
            "text/plain": [
              "array([[ 0.        ],\n",
              "       [-0.02176853],\n",
              "       [ 0.04416942],\n",
              "       [-0.04353705],\n",
              "       [ 0.02528253]], dtype=float32)"
            ]
          },
          "metadata": {
            "tags": []
          },
          "execution_count": 9
        }
      ]
    },
    {
      "cell_type": "code",
      "metadata": {
        "id": "HwwhSrFalcCV",
        "colab_type": "code",
        "outputId": "6fca9ee3-bdae-426f-c054-926468e2485d",
        "colab": {
          "base_uri": "https://localhost:8080/",
          "height": 422
        }
      },
      "source": [
        "keras.utils.plot_model(model, 'my_first_model_with_shape_info.png', show_shapes=True)\n"
      ],
      "execution_count": 10,
      "outputs": [
        {
          "output_type": "execute_result",
          "data": {
            "image/png": "[encoded data removed]",
            "text/plain": [
              "<IPython.core.display.Image object>"
            ]
          },
          "metadata": {
            "tags": []
          },
          "execution_count": 10
        }
      ]
    },
    {
      "cell_type": "markdown",
      "metadata": {
        "id": "1es7VTdEMmH6",
        "colab_type": "text"
      },
      "source": [
        "Commencons l'entrainement"
      ]
    },
    {
      "cell_type": "code",
      "metadata": {
        "id": "tPX2_n12Mn8I",
        "colab_type": "code",
        "outputId": "2b676508-ff35-4963-c850-e550df6e3349",
        "colab": {
          "base_uri": "https://localhost:8080/",
          "height": 208
        }
      },
      "source": [
        "# Display training progress by printing a single dot for each completed epoch\n",
        "class PrintDot(keras.callbacks.Callback):\n",
        "  def on_epoch_end(self, epoch, logs):\n",
        "    if epoch % 100 == 0: print('')\n",
        "    print('.', end='')\n",
        "\n",
        "EPOCHS = 1000\n",
        "\n",
        "history = model.fit(\n",
        "  dataset, train_labels,\n",
        "  epochs=EPOCHS, validation_split = 0.2, verbose=0,\n",
        "  callbacks=[PrintDot()])\n"
      ],
      "execution_count": 11,
      "outputs": [
        {
          "output_type": "stream",
          "text": [
            "\n",
            "....................................................................................................\n",
            "....................................................................................................\n",
            "....................................................................................................\n",
            "....................................................................................................\n",
            "....................................................................................................\n",
            "....................................................................................................\n",
            "....................................................................................................\n",
            "....................................................................................................\n",
            "....................................................................................................\n",
            "...................................................................................................."
          ],
          "name": "stdout"
        }
      ]
    },
    {
      "cell_type": "markdown",
      "metadata": {
        "id": "XvR0SbwzMzHG",
        "colab_type": "text"
      },
      "source": [
        "Voyons ce qui s'est passé"
      ]
    },
    {
      "cell_type": "code",
      "metadata": {
        "id": "D4_KNJY2M1Oo",
        "colab_type": "code",
        "outputId": "84b352b3-0757-4ea7-a0c6-7550c0f00211",
        "colab": {
          "base_uri": "https://localhost:8080/",
          "height": 226
        }
      },
      "source": [
        "hist = pd.DataFrame(history.history)\n",
        "hist['epoch'] = history.epoch\n",
        "hist.tail()\n"
      ],
      "execution_count": 12,
      "outputs": [
        {
          "output_type": "execute_result",
          "data": {
            "text/html": [
              "<div>\n",
              "<style scoped>\n",
              "    .dataframe tbody tr th:only-of-type {\n",
              "        vertical-align: middle;\n",
              "    }\n",
              "\n",
              "    .dataframe tbody tr th {\n",
              "        vertical-align: top;\n",
              "    }\n",
              "\n",
              "    .dataframe thead th {\n",
              "        text-align: right;\n",
              "    }\n",
              "</style>\n",
              "<table border=\"1\" class=\"dataframe\">\n",
              "  <thead>\n",
              "    <tr style=\"text-align: right;\">\n",
              "      <th></th>\n",
              "      <th>loss</th>\n",
              "      <th>mean_absolute_error</th>\n",
              "      <th>mean_squared_error</th>\n",
              "      <th>val_loss</th>\n",
              "      <th>val_mean_absolute_error</th>\n",
              "      <th>val_mean_squared_error</th>\n",
              "      <th>epoch</th>\n",
              "    </tr>\n",
              "  </thead>\n",
              "  <tbody>\n",
              "    <tr>\n",
              "      <th>995</th>\n",
              "      <td>0.403433</td>\n",
              "      <td>0.502732</td>\n",
              "      <td>0.403433</td>\n",
              "      <td>1.152386</td>\n",
              "      <td>0.820999</td>\n",
              "      <td>1.152386</td>\n",
              "      <td>995</td>\n",
              "    </tr>\n",
              "    <tr>\n",
              "      <th>996</th>\n",
              "      <td>0.394998</td>\n",
              "      <td>0.488017</td>\n",
              "      <td>0.394998</td>\n",
              "      <td>1.235312</td>\n",
              "      <td>0.850615</td>\n",
              "      <td>1.235312</td>\n",
              "      <td>996</td>\n",
              "    </tr>\n",
              "    <tr>\n",
              "      <th>997</th>\n",
              "      <td>0.418399</td>\n",
              "      <td>0.502094</td>\n",
              "      <td>0.418400</td>\n",
              "      <td>1.111292</td>\n",
              "      <td>0.831389</td>\n",
              "      <td>1.111292</td>\n",
              "      <td>997</td>\n",
              "    </tr>\n",
              "    <tr>\n",
              "      <th>998</th>\n",
              "      <td>0.395746</td>\n",
              "      <td>0.497569</td>\n",
              "      <td>0.395746</td>\n",
              "      <td>1.179421</td>\n",
              "      <td>0.854897</td>\n",
              "      <td>1.179421</td>\n",
              "      <td>998</td>\n",
              "    </tr>\n",
              "    <tr>\n",
              "      <th>999</th>\n",
              "      <td>0.398536</td>\n",
              "      <td>0.501297</td>\n",
              "      <td>0.398536</td>\n",
              "      <td>1.171185</td>\n",
              "      <td>0.822640</td>\n",
              "      <td>1.171185</td>\n",
              "      <td>999</td>\n",
              "    </tr>\n",
              "  </tbody>\n",
              "</table>\n",
              "</div>"
            ],
            "text/plain": [
              "         loss  mean_absolute_error  ...  val_mean_squared_error  epoch\n",
              "995  0.403433             0.502732  ...                1.152386    995\n",
              "996  0.394998             0.488017  ...                1.235312    996\n",
              "997  0.418399             0.502094  ...                1.111292    997\n",
              "998  0.395746             0.497569  ...                1.179421    998\n",
              "999  0.398536             0.501297  ...                1.171185    999\n",
              "\n",
              "[5 rows x 7 columns]"
            ]
          },
          "metadata": {
            "tags": []
          },
          "execution_count": 12
        }
      ]
    },
    {
      "cell_type": "markdown",
      "metadata": {
        "id": "jeII0Oc6NQi-",
        "colab_type": "text"
      },
      "source": [
        "Avec une courbe"
      ]
    },
    {
      "cell_type": "code",
      "metadata": {
        "id": "MdwcO8u9NR8W",
        "colab_type": "code",
        "outputId": "eba8ecb2-e02a-46c0-ac81-615636597b9e",
        "colab": {
          "base_uri": "https://localhost:8080/",
          "height": 549
        }
      },
      "source": [
        "import matplotlib.pyplot as plt\n",
        "\n",
        "\n",
        "def plot_history(history):\n",
        "  hist = pd.DataFrame(history.history)\n",
        "  hist['epoch'] = history.epoch\n",
        "\n",
        "  plt.figure()\n",
        "  plt.xlabel('Epoch')\n",
        "  plt.ylabel('Mean Abs Error [eval]')\n",
        "  plt.plot(hist['epoch'], hist['mean_absolute_error'],\n",
        "           label='Train Error')\n",
        "  plt.plot(hist['epoch'], hist['val_mean_absolute_error'],\n",
        "           label = 'Val Error')\n",
        "  plt.ylim([0,5])\n",
        "  plt.legend()\n",
        "\n",
        "  plt.figure()\n",
        "  plt.xlabel('Epoch')\n",
        "  plt.ylabel('Mean Square Error [$eval^2$]')\n",
        "  plt.plot(hist['epoch'], hist['mean_squared_error'],\n",
        "           label='Train Error')\n",
        "  plt.plot(hist['epoch'], hist['val_mean_squared_error'],\n",
        "           label = 'Val Error')\n",
        "  plt.ylim([0,20])\n",
        "  plt.legend()\n",
        "  plt.show()\n",
        "\n",
        "\n",
        "plot_history(history)\n"
      ],
      "execution_count": 13,
      "outputs": [
        {
          "output_type": "display_data",
          "data": {
            "image/png": "[encoded data removed]",
            "text/plain": [
              "<Figure size 432x288 with 1 Axes>"
            ]
          },
          "metadata": {
            "tags": []
          }
        },
        {
          "output_type": "display_data",
          "data": {
            "image/png": "[encoded data removed]",
            "text/plain": [
              "<Figure size 432x288 with 1 Axes>"
            ]
          },
          "metadata": {
            "tags": []
          }
        }
      ]
    },
    {
      "cell_type": "markdown",
      "metadata": {
        "id": "xYP58eaeQ246",
        "colab_type": "text"
      },
      "source": [
        "Revoyons ce qui se passe maintenant en prédiction"
      ]
    },
    {
      "cell_type": "code",
      "metadata": {
        "id": "aNz2GG9JQ6Tl",
        "colab_type": "code",
        "outputId": "506af20d-ecf4-4167-b4c1-c31f2ab9065d",
        "colab": {
          "base_uri": "https://localhost:8080/",
          "height": 104
        }
      },
      "source": [
        "example_batch = dataset[:5]\n",
        "example_result = model.predict(example_batch)\n",
        "example_result\n"
      ],
      "execution_count": 14,
      "outputs": [
        {
          "output_type": "execute_result",
          "data": {
            "text/plain": [
              "array([[ 1.0009214],\n",
              "       [-0.6307393],\n",
              "       [ 1.0063299],\n",
              "       [ 0.6390044],\n",
              "       [ 0.9815054]], dtype=float32)"
            ]
          },
          "metadata": {
            "tags": []
          },
          "execution_count": 14
        }
      ]
    },
    {
      "cell_type": "markdown",
      "metadata": {
        "id": "JDRY__fORPDf",
        "colab_type": "text"
      },
      "source": [
        "Et on attendait"
      ]
    },
    {
      "cell_type": "code",
      "metadata": {
        "id": "Ig1-ThxHRROI",
        "colab_type": "code",
        "outputId": "3022e526-b1b6-45cb-b4aa-31e861e71d7a",
        "colab": {
          "base_uri": "https://localhost:8080/",
          "height": 121
        }
      },
      "source": [
        "\n",
        "examples_labels = train_labels[:5]\n",
        "examples_labels"
      ],
      "execution_count": 15,
      "outputs": [
        {
          "output_type": "execute_result",
          "data": {
            "text/plain": [
              "0    1\n",
              "1   -1\n",
              "2    1\n",
              "3    1\n",
              "4    1\n",
              "Name: eval, dtype: int64"
            ]
          },
          "metadata": {
            "tags": []
          },
          "execution_count": 15
        }
      ]
    },
    {
      "cell_type": "markdown",
      "metadata": {
        "id": "3Kfz-ElgRUm5",
        "colab_type": "text"
      },
      "source": [
        "Ca semble pas mal !"
      ]
    },
    {
      "cell_type": "markdown",
      "metadata": {
        "id": "JBoV2YsdSuMS",
        "colab_type": "text"
      },
      "source": [
        "Essayons de sauver le model pendant l'apprentissage"
      ]
    },
    {
      "cell_type": "code",
      "metadata": {
        "id": "c2-sCl7qTAsb",
        "colab_type": "code",
        "outputId": "2c4c2315-450f-4d8c-eda3-2aa26aadc616",
        "colab": {
          "base_uri": "https://localhost:8080/",
          "height": 1000
        }
      },
      "source": [
        "import os\n",
        "import tensorflow as tf\n",
        "\n",
        "checkpoint_path = \"training_1/cp.ckpt\"\n",
        "checkpoint_dir = os.path.dirname(checkpoint_path)\n",
        "nSamples = dataset.shape[0]\n",
        "print(nSamples)\n",
        "\n",
        "# Create a callback that saves the model's weights\n",
        "cp_callback = tf.keras.callbacks.ModelCheckpoint(filepath=checkpoint_path,\n",
        "                                                 save_weights_only=True,\n",
        "                                                 save_freq = nSamples*100,\n",
        "                                                 verbose=1)\n",
        "\n",
        "\n",
        "\n",
        "# Display training progress by printing a single dot for each completed epoch\n",
        "class PrintDot(keras.callbacks.Callback):\n",
        "  def on_epoch_end(self, epoch, logs):\n",
        "    if epoch % 100 == 0: print('')\n",
        "    print('.', end='')\n",
        "\n",
        "EPOCHS = 2000\n",
        "\n",
        "history = model.fit(\n",
        "  dataset, train_labels,\n",
        "  epochs=EPOCHS,  verbose=0, shuffle=True,\n",
        "  callbacks=[PrintDot(),cp_callback])\n"
      ],
      "execution_count": 16,
      "outputs": [
        {
          "output_type": "stream",
          "text": [
            "143\n",
            "\n",
            "...................................................................................................\n",
            "Epoch 00100: saving model to training_1/cp.ckpt\n",
            ".\n",
            "...................................................................................................\n",
            "Epoch 00200: saving model to training_1/cp.ckpt\n",
            ".\n",
            "...................................................................................................\n",
            "Epoch 00300: saving model to training_1/cp.ckpt\n",
            ".\n",
            "...................................................................................................\n",
            "Epoch 00400: saving model to training_1/cp.ckpt\n",
            ".\n",
            "...................................................................................................\n",
            "Epoch 00500: saving model to training_1/cp.ckpt\n",
            ".\n",
            "...................................................................................................\n",
            "Epoch 00600: saving model to training_1/cp.ckpt\n",
            ".\n",
            "...................................................................................................\n",
            "Epoch 00700: saving model to training_1/cp.ckpt\n",
            ".\n",
            "...................................................................................................\n",
            "Epoch 00800: saving model to training_1/cp.ckpt\n",
            ".\n",
            "...................................................................................................\n",
            "Epoch 00900: saving model to training_1/cp.ckpt\n",
            ".\n",
            "...................................................................................................\n",
            "Epoch 01000: saving model to training_1/cp.ckpt\n",
            ".\n",
            "...................................................................................................\n",
            "Epoch 01100: saving model to training_1/cp.ckpt\n",
            ".\n",
            "...................................................................................................\n",
            "Epoch 01200: saving model to training_1/cp.ckpt\n",
            ".\n",
            "...................................................................................................\n",
            "Epoch 01300: saving model to training_1/cp.ckpt\n",
            ".\n",
            "...................................................................................................\n",
            "Epoch 01400: saving model to training_1/cp.ckpt\n",
            ".\n",
            "...................................................................................................\n",
            "Epoch 01500: saving model to training_1/cp.ckpt\n",
            ".\n",
            "...................................................................................................\n",
            "Epoch 01600: saving model to training_1/cp.ckpt\n",
            ".\n",
            "...................................................................................................\n",
            "Epoch 01700: saving model to training_1/cp.ckpt\n",
            ".\n",
            "...................................................................................................\n",
            "Epoch 01800: saving model to training_1/cp.ckpt\n",
            ".\n",
            "...................................................................................................\n",
            "Epoch 01900: saving model to training_1/cp.ckpt\n",
            ".\n",
            "...................................................................................................\n",
            "Epoch 02000: saving model to training_1/cp.ckpt\n",
            "."
          ],
          "name": "stdout"
        }
      ]
    },
    {
      "cell_type": "markdown",
      "metadata": {
        "id": "UbottxobU44K",
        "colab_type": "text"
      },
      "source": [
        "Pour charger ce model, on ferait"
      ]
    },
    {
      "cell_type": "code",
      "metadata": {
        "id": "kubq54kmU9c6",
        "colab_type": "code",
        "outputId": "1a130cda-0c4d-4830-d464-5df4fd0a8a14",
        "colab": {
          "base_uri": "https://localhost:8080/",
          "height": 34
        }
      },
      "source": [
        "# Create a basic model instance\n",
        "model2 = mymodel.build_model()\n",
        "\n",
        "# Loads the weights\n",
        "model2.load_weights(checkpoint_path)"
      ],
      "execution_count": 17,
      "outputs": [
        {
          "output_type": "execute_result",
          "data": {
            "text/plain": [
              "<tensorflow.python.training.tracking.util.CheckpointLoadStatus at 0x7fb79bd93a90>"
            ]
          },
          "metadata": {
            "tags": []
          },
          "execution_count": 17
        }
      ]
    },
    {
      "cell_type": "markdown",
      "metadata": {
        "id": "4edTay5vVWvM",
        "colab_type": "text"
      },
      "source": [
        "Testons ce modele :"
      ]
    },
    {
      "cell_type": "code",
      "metadata": {
        "id": "lWtFqHmPVY5K",
        "colab_type": "code",
        "outputId": "b9d52df8-d91a-4202-ffa8-fd41058bfd13",
        "colab": {
          "base_uri": "https://localhost:8080/",
          "height": 104
        }
      },
      "source": [
        "example_batch = dataset[:5]\n",
        "example_result = model.predict(example_batch)\n",
        "example_result\n"
      ],
      "execution_count": 18,
      "outputs": [
        {
          "output_type": "execute_result",
          "data": {
            "text/plain": [
              "array([[ 1.0281574 ],\n",
              "       [-0.9428735 ],\n",
              "       [ 1.1269127 ],\n",
              "       [ 0.82658124],\n",
              "       [ 1.2573167 ]], dtype=float32)"
            ]
          },
          "metadata": {
            "tags": []
          },
          "execution_count": 18
        }
      ]
    },
    {
      "cell_type": "markdown",
      "metadata": {
        "id": "AqGE1-w_VaFf",
        "colab_type": "text"
      },
      "source": [
        "pour un résultat attendu de :"
      ]
    },
    {
      "cell_type": "code",
      "metadata": {
        "id": "2208d-oIVgQ9",
        "colab_type": "code",
        "outputId": "5a6e872f-595f-47a3-a123-1ec5b65115a1",
        "colab": {
          "base_uri": "https://localhost:8080/",
          "height": 121
        }
      },
      "source": [
        "\n",
        "examples_labels = train_labels[:5]\n",
        "examples_labels"
      ],
      "execution_count": 19,
      "outputs": [
        {
          "output_type": "execute_result",
          "data": {
            "text/plain": [
              "0    1\n",
              "1   -1\n",
              "2    1\n",
              "3    1\n",
              "4    1\n",
              "Name: eval, dtype: int64"
            ]
          },
          "metadata": {
            "tags": []
          },
          "execution_count": 19
        }
      ]
    },
    {
      "cell_type": "markdown",
      "metadata": {
        "id": "sml0NHoiTuY6",
        "colab_type": "text"
      },
      "source": [
        "On aurait aussi pu faire..."
      ]
    },
    {
      "cell_type": "code",
      "metadata": {
        "id": "CgZ_60ZWTzw0",
        "colab_type": "code",
        "outputId": "1a7ab399-348a-4456-ff0e-4b980cab57f4",
        "colab": {
          "base_uri": "https://localhost:8080/",
          "height": 52
        }
      },
      "source": [
        "# Save the weights\n",
        "model.save_weights('./checkpoints/my_checkpoint')\n",
        "\n",
        "# Create a new model instance\n",
        "model3 = mymodel.build_model()\n",
        "\n",
        "# Restore the weights\n",
        "model3.load_weights('./checkpoints/my_checkpoint')\n",
        "\n",
        "# Evaluate the model\n",
        "loss,mae,mse= model3.evaluate(dataset,  train_labels, verbose=2)\n",
        "print(loss)\n"
      ],
      "execution_count": 20,
      "outputs": [
        {
          "output_type": "stream",
          "text": [
            "143/143 - 0s - loss: 0.2080 - mean_absolute_error: 0.3009 - mean_squared_error: 0.2080\n",
            "0.2079891660413542\n"
          ],
          "name": "stdout"
        }
      ]
    },
    {
      "cell_type": "markdown",
      "metadata": {
        "id": "MRRDSt39b3ms",
        "colab_type": "text"
      },
      "source": [
        "Voyons une utilisation en prédiction telle qu'elle serait faite dans le jeu...\n"
      ]
    },
    {
      "cell_type": "code",
      "metadata": {
        "id": "H0LesOXccG1b",
        "colab_type": "code",
        "outputId": "dd0da43d-b3af-4160-ee18-d70ebce38816",
        "colab": {
          "base_uri": "https://localhost:8080/",
          "height": 52
        }
      },
      "source": [
        "import numpy as np\n",
        "\n",
        "board=[7,5,3,1]\n",
        "npboard = np.asarray([board])\n",
        "print(npboard.shape)\n",
        "model2.predict(npboard)"
      ],
      "execution_count": 21,
      "outputs": [
        {
          "output_type": "stream",
          "text": [
            "(1, 4)\n"
          ],
          "name": "stdout"
        },
        {
          "output_type": "execute_result",
          "data": {
            "text/plain": [
              "array([[-0.7310443]], dtype=float32)"
            ]
          },
          "metadata": {
            "tags": []
          },
          "execution_count": 21
        }
      ]
    },
    {
      "cell_type": "markdown",
      "metadata": {
        "id": "pMtTVga5Ggps",
        "colab_type": "text"
      },
      "source": [
        "Evaluons la qualité de notre apprentissage"
      ]
    },
    {
      "cell_type": "code",
      "metadata": {
        "id": "BHbEu71IGojG",
        "colab_type": "code",
        "outputId": "2f0618c8-010b-4db9-dbe9-b0d31fa1b737",
        "colab": {
          "base_uri": "https://localhost:8080/",
          "height": 541
        }
      },
      "source": [
        "!wget https://raw.githubusercontent.com/elbixos/M2_Connectionnisme/master/DeepMim/Sources/testLearningEvaluation.py\n",
        "!python testLearningEvaluation.py"
      ],
      "execution_count": 22,
      "outputs": [
        {
          "output_type": "stream",
          "text": [
            "--2019-11-20 15:39:33--  https://raw.githubusercontent.com/elbixos/M2_Connectionnisme/master/DeepMim/Sources/testLearningEvaluation.py\n",
            "Resolving raw.githubusercontent.com (raw.githubusercontent.com)... 151.101.0.133, 151.101.64.133, 151.101.128.133, ...\n",
            "Connecting to raw.githubusercontent.com (raw.githubusercontent.com)|151.101.0.133|:443... connected.\n",
            "HTTP request sent, awaiting response... 200 OK\n",
            "Length: 1201 (1.2K) [text/plain]\n",
            "Saving to: ‘testLearningEvaluation.py’\n",
            "\n",
            "\r          testLearn   0%[                    ]       0  --.-KB/s               \rtestLearningEvaluat 100%[===================>]   1.17K  --.-KB/s    in 0s      \n",
            "\n",
            "2019-11-20 15:39:34 (405 MB/s) - ‘testLearningEvaluation.py’ saved [1201/1201]\n",
            "\n",
            "WARNING:tensorflow:From /usr/local/lib/python3.6/dist-packages/tensorflow_core/python/ops/resource_variable_ops.py:1630: calling BaseResourceVariable.__init__ (from tensorflow.python.ops.resource_variable_ops) with constraint is deprecated and will be removed in a future version.\n",
            "Instructions for updating:\n",
            "If using Keras pass *_constraint arguments to layers.\n",
            "2019-11-20 15:39:38.597039: I tensorflow/stream_executor/platform/default/dso_loader.cc:44] Successfully opened dynamic library libcuda.so.1\n",
            "2019-11-20 15:39:38.598536: E tensorflow/stream_executor/cuda/cuda_driver.cc:318] failed call to cuInit: CUDA_ERROR_NO_DEVICE: no CUDA-capable device is detected\n",
            "2019-11-20 15:39:38.598577: I tensorflow/stream_executor/cuda/cuda_diagnostics.cc:156] kernel driver does not appear to be running on this host (75c7466e47be): /proc/driver/nvidia/version does not exist\n",
            "2019-11-20 15:39:38.604550: I tensorflow/core/platform/profile_utils/cpu_utils.cc:94] CPU Frequency: 2300000000 Hz\n",
            "2019-11-20 15:39:38.604754: I tensorflow/compiler/xla/service/service.cc:168] XLA service 0x1eaebc0 initialized for platform Host (this does not guarantee that XLA will be used). Devices:\n",
            "2019-11-20 15:39:38.604789: I tensorflow/compiler/xla/service/service.cc:176]   StreamExecutor device (0): Host, Default Version\n",
            "13 [ 3 2 1 0 ] -1 0.2190592\n",
            "23 [ 5 0 0 0 ] -1 0.6689937\n",
            "25 [ 5 1 1 0 ] -1 0.38759694\n",
            "48 [ 4 2 2 0 ] -1 0.46230635\n",
            "54 [ 5 3 2 0 ] -1 0.3719944\n",
            "71 [ 5 4 1 1 ] -1 0.03647253\n",
            "117 [ 7 2 1 0 ] -1 0.63565195\n",
            "134 [ 7 4 3 0 ] -1 0.28938398\n",
            "Nb errors 8\n"
          ],
          "name": "stdout"
        }
      ]
    },
    {
      "cell_type": "code",
      "metadata": {
        "id": "DHZ_FlQhNmSG",
        "colab_type": "code",
        "outputId": "5080afb5-b244-4f61-88d1-79eb41e6216a",
        "colab": {
          "base_uri": "https://localhost:8080/",
          "height": 173
        }
      },
      "source": [
        "def computeErrors(x,labels, predictions):\n",
        "  truths = labels.values\n",
        "  nbErrors=0\n",
        "  for i in range(len(truths)) :\n",
        "    if truths[i]*predictions[i][0] <=0 :\n",
        "      nbErrors += 1\n",
        "      print(i,x.iloc[i,0],x.iloc[i,1],x.iloc[i,2],x.iloc[i,3],truths[i],predictions[i][0])\n",
        "  return nbErrors\n",
        "\n",
        "pred = model2.predict(dataset)\n",
        "\n",
        "computeErrors(dataset,train_labels,pred)"
      ],
      "execution_count": 23,
      "outputs": [
        {
          "output_type": "stream",
          "text": [
            "13 3 2 1 0 -1 0.2190592\n",
            "23 5 0 0 0 -1 0.6689937\n",
            "25 5 1 1 0 -1 0.38759694\n",
            "48 4 2 2 0 -1 0.46230635\n",
            "54 5 3 2 0 -1 0.3719944\n",
            "71 5 4 1 1 -1 0.03647253\n",
            "117 7 2 1 0 -1 0.63565195\n",
            "134 7 4 3 0 -1 0.28938398\n"
          ],
          "name": "stdout"
        },
        {
          "output_type": "execute_result",
          "data": {
            "text/plain": [
              "8"
            ]
          },
          "metadata": {
            "tags": []
          },
          "execution_count": 23
        }
      ]
    },
    {
      "cell_type": "markdown",
      "metadata": {
        "id": "9WVjiIQH76S2",
        "colab_type": "text"
      },
      "source": [
        "Incrustons tout ceci dans un jeu d'allumettes"
      ]
    },
    {
      "cell_type": "code",
      "metadata": {
        "id": "F9phNiMT8H09",
        "colab_type": "code",
        "outputId": "269bca09-fa14-4064-a340-987938f815e9",
        "colab": {
          "base_uri": "https://localhost:8080/",
          "height": 228
        }
      },
      "source": [
        "!wget https://raw.githubusercontent.com/elbixos/M2_Connectionnisme/master/DeepMim/Sources/player.py"
      ],
      "execution_count": 24,
      "outputs": [
        {
          "output_type": "stream",
          "text": [
            "--2019-11-20 15:39:41--  https://raw.githubusercontent.com/elbixos/M2_Connectionnisme/master/DeepMim/Sources/player.py\n",
            "Resolving raw.githubusercontent.com (raw.githubusercontent.com)... 151.101.0.133, 151.101.64.133, 151.101.128.133, ...\n",
            "Connecting to raw.githubusercontent.com (raw.githubusercontent.com)|151.101.0.133|:443... connected.\n",
            "HTTP request sent, awaiting response... 200 OK\n",
            "Length: 6708 (6.6K) [text/plain]\n",
            "Saving to: ‘player.py’\n",
            "\n",
            "\rplayer.py             0%[                    ]       0  --.-KB/s               \rplayer.py           100%[===================>]   6.55K  --.-KB/s    in 0s      \n",
            "\n",
            "2019-11-20 15:39:41 (86.9 MB/s) - ‘player.py’ saved [6708/6708]\n",
            "\n"
          ],
          "name": "stdout"
        }
      ]
    },
    {
      "cell_type": "markdown",
      "metadata": {
        "id": "kG8gPzTp9CPy",
        "colab_type": "text"
      },
      "source": [
        "Et on va pouvoir tester"
      ]
    },
    {
      "cell_type": "code",
      "metadata": {
        "id": "jdK3wCy79Y_G",
        "colab_type": "code",
        "outputId": "a061ef62-8c5f-469f-d1ea-21e7955cb0db",
        "colab": {
          "base_uri": "https://localhost:8080/",
          "height": 34
        }
      },
      "source": [
        "\n",
        "import player\n",
        "\n",
        "import random\n",
        "\n",
        "def displayBoard(board) :\n",
        "        \"\"\"\n",
        "        display the board\n",
        "        \"\"\"\n",
        "        for i in range(len(board)) :\n",
        "            print(i ,\":  \", end=\"\")\n",
        "            for j in range(board[i]) :\n",
        "                print(\"I\", end = \"\")\n",
        "            print(\"\")\n",
        "\n",
        "\n",
        "def drawMatches (line, nbMatches,board):\n",
        "    \"\"\"\n",
        "    Draw some matches on the current board.\n",
        "\n",
        "    It check if the proposal is valid.\n",
        "    \"\"\"\n",
        "    if (isValidStrategy(line, nbMatches,board)) :\n",
        "        board[line]-=nbMatches\n",
        "    else :\n",
        "        print (\"You tried something bad\")\n",
        "\n",
        "def isFinished (board):\n",
        "    \"\"\"\n",
        "    Tell if the game is finished or not\n",
        "    (finished if no matches remains)\n",
        "    \"\"\"\n",
        "    if countMatches(board) == 0:\n",
        "        return True\n",
        "    return False\n",
        "\n",
        "\n",
        "def countMatches (board):\n",
        "    \"\"\"\n",
        "    Count matches on the board\n",
        "    \"\"\"\n",
        "\n",
        "    nbAll =0\n",
        "    for ligne in board:\n",
        "        if ligne >= 0:\n",
        "            nbAll+=ligne\n",
        "    return nbAll\n",
        "\n",
        "def isValidStrategy (line, nbMatches, board):\n",
        "    \"\"\"\n",
        "    test if a strategy is valid for the current state of the Board\n",
        "\n",
        "    One could ask if a strategy is valid for a different board. If so,\n",
        "    pass the board as a parameter\n",
        "    \"\"\"\n",
        "    if (line < 0 or line >=4):\n",
        "        return False\n",
        "\n",
        "    if nbMatches < 1 or nbMatches >3 :\n",
        "        return False\n",
        "\n",
        "    if board[line]-nbMatches < 0:\n",
        "        return False\n",
        "\n",
        "    return True\n",
        "\n",
        "def changePlayer(numJoueur):\n",
        "    numJoueur = (numJoueur+1)%2\n",
        "    return numJoueur\n",
        "\n",
        "\n",
        "victories=0\n",
        "nbGames = 20\n",
        "\n",
        "p1=player.IADeepPlayer()\n",
        "p2=player.IARandomPlayer()\n",
        "\n",
        "\n",
        "for i in range(nbGames):\n",
        "\n",
        "    board = [7 , 5, 3, 1]\n",
        "    numJoueur = 0\n",
        "\n",
        "    #print (\"avec \",board ,\"j'aurais ce resultat\", evaluate(board,False,0))\n",
        "    #print (\"avec \",board ,\"je joue \", IAMakeChoice(board))\n",
        "\n",
        "\n",
        "\n",
        "    draw = random.random()\n",
        "    if draw <0.5:\n",
        "        players=[p1,p2]\n",
        "        IA=0\n",
        "    else :\n",
        "        players=[p2,p1]\n",
        "        IA=1\n",
        "\n",
        "\n",
        "    while(not isFinished(board)):\n",
        "            line, nbMatches = players[numJoueur].makeChoice(board)\n",
        "            drawMatches(line, nbMatches,board)\n",
        "            numJoueur = changePlayer(numJoueur)\n",
        "\n",
        "    if numJoueur == IA:\n",
        "        victories+=1\n",
        "\n",
        "print (\"IA wins in \",victories, \"over \",nbGames)\n"
      ],
      "execution_count": 25,
      "outputs": [
        {
          "output_type": "stream",
          "text": [
            "IA wins in  20 over  20\n"
          ],
          "name": "stdout"
        }
      ]
    },
    {
      "cell_type": "markdown",
      "metadata": {
        "id": "ZLazBQiN2YVb",
        "colab_type": "text"
      },
      "source": [
        "## Commencons un entrainement réel.\n",
        "\n",
        "Pour cela, la méthode makeChoice de l'IA accepte un parametre train\n",
        "qui change un peu la stratégie.\n",
        "Si on est en entrainement, l'IA ne va pas systématiquement jouer le meilleur choix possible.\n",
        "\n",
        "Avec une probabilité de epsilon (0.2), elle va jouer un coup au hasard\n",
        "pour explorer de nouvelles possibilités.\n",
        "\n",
        "De plus, j'ai préparé un fichier *trainDeepIA.py*\n",
        "qui va faire jouer l'IA contre elle meme, et preparer son évaluation de la partie.\n"
      ]
    },
    {
      "cell_type": "code",
      "metadata": {
        "id": "n0TDVHqx3QdX",
        "colab_type": "code",
        "colab": {
          "base_uri": "https://localhost:8080/",
          "height": 228
        },
        "outputId": "b895af1b-c73e-47f7-fdfa-b6ed26dcc5cc"
      },
      "source": [
        "!wget https://raw.githubusercontent.com/elbixos/M2_Connectionnisme/master/DeepMim/Sources/trainDeepIA.py"
      ],
      "execution_count": 26,
      "outputs": [
        {
          "output_type": "stream",
          "text": [
            "--2019-11-20 15:39:45--  https://raw.githubusercontent.com/elbixos/M2_Connectionnisme/master/DeepMim/Sources/trainDeepIA.py\n",
            "Resolving raw.githubusercontent.com (raw.githubusercontent.com)... 151.101.0.133, 151.101.64.133, 151.101.128.133, ...\n",
            "Connecting to raw.githubusercontent.com (raw.githubusercontent.com)|151.101.0.133|:443... connected.\n",
            "HTTP request sent, awaiting response... 200 OK\n",
            "Length: 2402 (2.3K) [text/plain]\n",
            "Saving to: ‘trainDeepIA.py’\n",
            "\n",
            "\rtrainDeepIA.py        0%[                    ]       0  --.-KB/s               \rtrainDeepIA.py      100%[===================>]   2.35K  --.-KB/s    in 0s      \n",
            "\n",
            "2019-11-20 15:39:45 (43.4 MB/s) - ‘trainDeepIA.py’ saved [2402/2402]\n",
            "\n"
          ],
          "name": "stdout"
        }
      ]
    },
    {
      "cell_type": "code",
      "metadata": {
        "id": "A70N-cHx3auK",
        "colab_type": "code",
        "colab": {
          "base_uri": "https://localhost:8080/",
          "height": 436
        },
        "outputId": "0be8fa3c-5ecf-4f75-c9fb-8b3eb27a6918"
      },
      "source": [
        "!python trainDeepIA.py"
      ],
      "execution_count": 27,
      "outputs": [
        {
          "output_type": "stream",
          "text": [
            "WARNING:tensorflow:From /usr/local/lib/python3.6/dist-packages/tensorflow_core/python/ops/resource_variable_ops.py:1630: calling BaseResourceVariable.__init__ (from tensorflow.python.ops.resource_variable_ops) with constraint is deprecated and will be removed in a future version.\n",
            "Instructions for updating:\n",
            "If using Keras pass *_constraint arguments to layers.\n",
            "2019-11-20 15:39:50.452925: I tensorflow/stream_executor/platform/default/dso_loader.cc:44] Successfully opened dynamic library libcuda.so.1\n",
            "2019-11-20 15:39:50.454378: E tensorflow/stream_executor/cuda/cuda_driver.cc:318] failed call to cuInit: CUDA_ERROR_NO_DEVICE: no CUDA-capable device is detected\n",
            "2019-11-20 15:39:50.454421: I tensorflow/stream_executor/cuda/cuda_diagnostics.cc:156] kernel driver does not appear to be running on this host (75c7466e47be): /proc/driver/nvidia/version does not exist\n",
            "2019-11-20 15:39:50.459908: I tensorflow/core/platform/profile_utils/cpu_utils.cc:94] CPU Frequency: 2300000000 Hz\n",
            "2019-11-20 15:39:50.460119: I tensorflow/compiler/xla/service/service.cc:168] XLA service 0x2b1ebc0 initialized for platform Host (this does not guarantee that XLA will be used). Devices:\n",
            "2019-11-20 15:39:50.460149: I tensorflow/compiler/xla/service/service.cc:176]   StreamExecutor device (0): Host, Default Version\n",
            "[7, 5, 3, 1] 1 [-0.7310442]\n",
            "[7, 5, 3, 0] -1 [0.65055764]\n",
            "[6, 5, 3, 0] 1 [-0.48270896]\n",
            "[5, 3, 3, 0] -1 [0.34638724]\n",
            "[4, 3, 3, 0] 1 [-0.10188666]\n",
            "[4, 3, 2, 0] -1 [0.5763761]\n",
            "[3, 2, 2, 0] 1 [0.11284128]\n",
            "[2, 2, 0, 0] -1 [-0.8736378]\n",
            "[2, 0, 0, 0] 1 [0.82658124]\n",
            "[1, 0, 0, 0] -1 [-0.9428735]\n",
            "[0, 0, 0, 0] 1 [1.0281574]\n",
            "\n",
            "Epoch 00001: saving model to training_1/cp.ckpt\n",
            "IA wins in  0 over  1\n"
          ],
          "name": "stdout"
        }
      ]
    }
  ]
}