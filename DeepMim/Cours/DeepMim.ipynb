{
  "nbformat": 4,
  "nbformat_minor": 0,
  "metadata": {
    "colab": {
      "name": "DeepMim.ipynb",
      "provenance": [],
      "include_colab_link": true
    },
    "kernelspec": {
      "name": "python3",
      "display_name": "Python 3"
    }
  },
  "cells": [
    {
      "cell_type": "markdown",
      "metadata": {
        "id": "view-in-github",
        "colab_type": "text"
      },
      "source": [
        "<a href=\"https://colab.research.google.com/github/elbixos/M2_Connectionnisme/blob/master/DeepMim/Cours/DeepMim.ipynb\" target=\"_parent\"><img src=\"https://colab.research.google.com/assets/colab-badge.svg\" alt=\"Open In Colab\"/></a>"
      ]
    },
    {
      "cell_type": "markdown",
      "metadata": {
        "id": "49RSPpBJJKbb",
        "colab_type": "text"
      },
      "source": [
        "Commencons par charger nos données"
      ]
    },
    {
      "cell_type": "code",
      "metadata": {
        "id": "p00XmqAzJDT6",
        "colab_type": "code",
        "outputId": "f9ec43ab-1a49-4adf-9e17-54ef77f575ca",
        "colab": {
          "base_uri": "https://localhost:8080/",
          "height": 206
        }
      },
      "source": [
        "\n",
        "import pandas as pd\n",
        "from tensorflow import keras\n",
        "\n",
        "dataset_path = keras.utils.get_file(\"evalMim.csv\", \"https://raw.githubusercontent.com/elbixos/M2_Connectionnisme/master/DeepMim/Sources/evalMim.csv\")\n",
        "\n",
        "\n",
        "column_names = ['line1','line2','line3','line4','eval']\n",
        "raw_dataset = pd.read_csv(dataset_path, names=column_names,\n",
        "                      na_values = \"?\", comment='\\t',\n",
        "                      sep=\",\", skipinitialspace=True)\n",
        "\n",
        "dataset = raw_dataset.copy()\n",
        "dataset.tail()\n"
      ],
      "execution_count": 4,
      "outputs": [
        {
          "output_type": "execute_result",
          "data": {
            "text/html": [
              "<div>\n",
              "<style scoped>\n",
              "    .dataframe tbody tr th:only-of-type {\n",
              "        vertical-align: middle;\n",
              "    }\n",
              "\n",
              "    .dataframe tbody tr th {\n",
              "        vertical-align: top;\n",
              "    }\n",
              "\n",
              "    .dataframe thead th {\n",
              "        text-align: right;\n",
              "    }\n",
              "</style>\n",
              "<table border=\"1\" class=\"dataframe\">\n",
              "  <thead>\n",
              "    <tr style=\"text-align: right;\">\n",
              "      <th></th>\n",
              "      <th>line1</th>\n",
              "      <th>line2</th>\n",
              "      <th>line3</th>\n",
              "      <th>line4</th>\n",
              "      <th>eval</th>\n",
              "    </tr>\n",
              "  </thead>\n",
              "  <tbody>\n",
              "    <tr>\n",
              "      <th>138</th>\n",
              "      <td>7</td>\n",
              "      <td>5</td>\n",
              "      <td>1</td>\n",
              "      <td>1</td>\n",
              "      <td>1</td>\n",
              "    </tr>\n",
              "    <tr>\n",
              "      <th>139</th>\n",
              "      <td>7</td>\n",
              "      <td>5</td>\n",
              "      <td>2</td>\n",
              "      <td>0</td>\n",
              "      <td>-1</td>\n",
              "    </tr>\n",
              "    <tr>\n",
              "      <th>140</th>\n",
              "      <td>7</td>\n",
              "      <td>5</td>\n",
              "      <td>2</td>\n",
              "      <td>1</td>\n",
              "      <td>1</td>\n",
              "    </tr>\n",
              "    <tr>\n",
              "      <th>141</th>\n",
              "      <td>7</td>\n",
              "      <td>5</td>\n",
              "      <td>3</td>\n",
              "      <td>0</td>\n",
              "      <td>1</td>\n",
              "    </tr>\n",
              "    <tr>\n",
              "      <th>142</th>\n",
              "      <td>7</td>\n",
              "      <td>5</td>\n",
              "      <td>3</td>\n",
              "      <td>1</td>\n",
              "      <td>-1</td>\n",
              "    </tr>\n",
              "  </tbody>\n",
              "</table>\n",
              "</div>"
            ],
            "text/plain": [
              "     line1  line2  line3  line4  eval\n",
              "138      7      5      1      1     1\n",
              "139      7      5      2      0    -1\n",
              "140      7      5      2      1     1\n",
              "141      7      5      3      0     1\n",
              "142      7      5      3      1    -1"
            ]
          },
          "metadata": {
            "tags": []
          },
          "execution_count": 4
        }
      ]
    },
    {
      "cell_type": "markdown",
      "metadata": {
        "id": "0m1SdFIuHn3T",
        "colab_type": "text"
      },
      "source": [
        "Puis, on sépare le label (eval) des caractéristiques"
      ]
    },
    {
      "cell_type": "code",
      "metadata": {
        "id": "fYurn5OpHjaF",
        "colab_type": "code",
        "colab": {}
      },
      "source": [
        "\n",
        "\n",
        "train_labels = dataset.pop('eval')\n",
        "dataset.tail()\n"
      ],
      "execution_count": 0,
      "outputs": []
    },
    {
      "cell_type": "markdown",
      "metadata": {
        "id": "aimh6DIgKZno",
        "colab_type": "text"
      },
      "source": [
        "On peut aussi voir les labels"
      ]
    },
    {
      "cell_type": "code",
      "metadata": {
        "id": "Ghi1JUCGdZ_i",
        "colab_type": "code",
        "colab": {}
      },
      "source": [
        "print(dataset.shape)"
      ],
      "execution_count": 0,
      "outputs": []
    },
    {
      "cell_type": "code",
      "metadata": {
        "id": "6idME90GKci-",
        "colab_type": "code",
        "outputId": "21edbc5a-5880-4337-e7e2-122e5e67858c",
        "colab": {
          "base_uri": "https://localhost:8080/",
          "height": 129
        }
      },
      "source": [
        "\n",
        "train_labels.tail()\n"
      ],
      "execution_count": 20,
      "outputs": [
        {
          "output_type": "execute_result",
          "data": {
            "text/plain": [
              "138    1\n",
              "139   -1\n",
              "140    1\n",
              "141    1\n",
              "142   -1\n",
              "Name: eval, dtype: int64"
            ]
          },
          "metadata": {
            "tags": []
          },
          "execution_count": 20
        }
      ]
    },
    {
      "cell_type": "markdown",
      "metadata": {
        "id": "URmKAndPKqu7",
        "colab_type": "text"
      },
      "source": [
        "On peut maintenant construire le modele. Pour des raisons pratiques, je l'ai placé dans un fichier spécifique que nous allons récupérer.\n",
        "\n",
        "Je vous l'affiche mais vous ne pouvez pas le modifier aussi facilement que le reste. Pour l'editer, il faudra utiliser le **volet** de gauche qui vous donne accès aux fichiers téléhargés.\n"
      ]
    },
    {
      "cell_type": "code",
      "metadata": {
        "id": "iQ9NLYdvAff9",
        "colab_type": "code",
        "outputId": "4df6b611-909c-479f-eed9-d78adbda80d5",
        "colab": {
          "base_uri": "https://localhost:8080/",
          "height": 599
        }
      },
      "source": [
        "!wget --no-http-keep-alive https://raw.githubusercontent.com/elbixos/M2_Connectionnisme/master/DeepMim/Sources/mymodel.py\n",
        "!cat mymodel.py"
      ],
      "execution_count": 8,
      "outputs": [
        {
          "output_type": "stream",
          "text": [
            "--2019-11-15 23:49:24--  https://raw.githubusercontent.com/elbixos/M2_Connectionnisme/master/DeepMim/Sources/mymodel.py\n",
            "Resolving raw.githubusercontent.com (raw.githubusercontent.com)... 151.101.0.133, 151.101.64.133, 151.101.128.133, ...\n",
            "Connecting to raw.githubusercontent.com (raw.githubusercontent.com)|151.101.0.133|:443... connected.\n",
            "HTTP request sent, awaiting response... 200 OK\n",
            "Length: 538 [text/plain]\n",
            "Saving to: ‘mymodel.py.1’\n",
            "\n",
            "\rmymodel.py.1          0%[                    ]       0  --.-KB/s               \rmymodel.py.1        100%[===================>]     538  --.-KB/s    in 0s      \n",
            "\n",
            "2019-11-15 23:49:24 (106 MB/s) - ‘mymodel.py.1’ saved [538/538]\n",
            "\n",
            "from __future__ import absolute_import, division, print_function, unicode_literals\n",
            "\n",
            "import tensorflow as tf\n",
            "from tensorflow.keras import layers\n",
            "from tensorflow import keras\n",
            "\n",
            "def build_model():\n",
            "    model = keras.Sequential([\n",
            "      layers.Dense(32, activation='relu', input_shape=[4,]),\n",
            "      layers.Dense(32, activation='relu'),\n",
            "      layers.Dense(1)\n",
            "    ])\n",
            "\n",
            "    optimizer = tf.keras.optimizers.RMSprop(0.001)\n",
            "\n",
            "    model.compile(loss='mse',\n",
            "                  optimizer=optimizer,\n",
            "                  metrics=['mae', 'mse'])\n",
            "    return model\n"
          ],
          "name": "stdout"
        }
      ]
    },
    {
      "cell_type": "code",
      "metadata": {
        "id": "UcX2oYFcKts3",
        "colab_type": "code",
        "outputId": "66deb3a5-aa23-40dc-c47c-0a30ebaa4f00",
        "colab": {
          "base_uri": "https://localhost:8080/",
          "height": 36
        }
      },
      "source": [
        "import mymodel \n",
        "model = mymodel.build_model()\n",
        "model"
      ],
      "execution_count": 9,
      "outputs": [
        {
          "output_type": "execute_result",
          "data": {
            "text/plain": [
              "<tensorflow.python.keras.engine.sequential.Sequential at 0x7f3f320fc048>"
            ]
          },
          "metadata": {
            "tags": []
          },
          "execution_count": 9
        }
      ]
    },
    {
      "cell_type": "markdown",
      "metadata": {
        "id": "9lVb36jgK2Mh",
        "colab_type": "text"
      },
      "source": [
        "Et regarder sa tete..."
      ]
    },
    {
      "cell_type": "code",
      "metadata": {
        "id": "CwEdx2QlK5Ae",
        "colab_type": "code",
        "outputId": "abb4d835-f76b-4cf7-942d-ee1e19519416",
        "colab": {
          "base_uri": "https://localhost:8080/",
          "height": 279
        }
      },
      "source": [
        "model.summary()\n"
      ],
      "execution_count": 10,
      "outputs": [
        {
          "output_type": "stream",
          "text": [
            "Model: \"sequential_1\"\n",
            "_________________________________________________________________\n",
            "Layer (type)                 Output Shape              Param #   \n",
            "=================================================================\n",
            "dense_3 (Dense)              (None, 32)                160       \n",
            "_________________________________________________________________\n",
            "dense_4 (Dense)              (None, 32)                1056      \n",
            "_________________________________________________________________\n",
            "dense_5 (Dense)              (None, 1)                 33        \n",
            "=================================================================\n",
            "Total params: 1,249\n",
            "Trainable params: 1,249\n",
            "Non-trainable params: 0\n",
            "_________________________________________________________________\n"
          ],
          "name": "stdout"
        }
      ]
    },
    {
      "cell_type": "markdown",
      "metadata": {
        "id": "TNeMpPE_L6TL",
        "colab_type": "text"
      },
      "source": [
        "Essayons quelques prédictions"
      ]
    },
    {
      "cell_type": "code",
      "metadata": {
        "id": "qx-gj2qYL81Z",
        "colab_type": "code",
        "outputId": "c1d73b38-d556-4678-cf3f-a19972c21e83",
        "colab": {
          "base_uri": "https://localhost:8080/",
          "height": 206
        }
      },
      "source": [
        "example_batch = dataset[:5]\n",
        "example_batch"
      ],
      "execution_count": 21,
      "outputs": [
        {
          "output_type": "execute_result",
          "data": {
            "text/html": [
              "<div>\n",
              "<style scoped>\n",
              "    .dataframe tbody tr th:only-of-type {\n",
              "        vertical-align: middle;\n",
              "    }\n",
              "\n",
              "    .dataframe tbody tr th {\n",
              "        vertical-align: top;\n",
              "    }\n",
              "\n",
              "    .dataframe thead th {\n",
              "        text-align: right;\n",
              "    }\n",
              "</style>\n",
              "<table border=\"1\" class=\"dataframe\">\n",
              "  <thead>\n",
              "    <tr style=\"text-align: right;\">\n",
              "      <th></th>\n",
              "      <th>line1</th>\n",
              "      <th>line2</th>\n",
              "      <th>line3</th>\n",
              "      <th>line4</th>\n",
              "    </tr>\n",
              "  </thead>\n",
              "  <tbody>\n",
              "    <tr>\n",
              "      <th>0</th>\n",
              "      <td>0</td>\n",
              "      <td>0</td>\n",
              "      <td>0</td>\n",
              "      <td>0</td>\n",
              "    </tr>\n",
              "    <tr>\n",
              "      <th>1</th>\n",
              "      <td>1</td>\n",
              "      <td>0</td>\n",
              "      <td>0</td>\n",
              "      <td>0</td>\n",
              "    </tr>\n",
              "    <tr>\n",
              "      <th>2</th>\n",
              "      <td>1</td>\n",
              "      <td>1</td>\n",
              "      <td>0</td>\n",
              "      <td>0</td>\n",
              "    </tr>\n",
              "    <tr>\n",
              "      <th>3</th>\n",
              "      <td>2</td>\n",
              "      <td>0</td>\n",
              "      <td>0</td>\n",
              "      <td>0</td>\n",
              "    </tr>\n",
              "    <tr>\n",
              "      <th>4</th>\n",
              "      <td>2</td>\n",
              "      <td>1</td>\n",
              "      <td>0</td>\n",
              "      <td>0</td>\n",
              "    </tr>\n",
              "  </tbody>\n",
              "</table>\n",
              "</div>"
            ],
            "text/plain": [
              "   line1  line2  line3  line4\n",
              "0      0      0      0      0\n",
              "1      1      0      0      0\n",
              "2      1      1      0      0\n",
              "3      2      0      0      0\n",
              "4      2      1      0      0"
            ]
          },
          "metadata": {
            "tags": []
          },
          "execution_count": 21
        }
      ]
    },
    {
      "cell_type": "code",
      "metadata": {
        "id": "r9o8ar6Ffd8F",
        "colab_type": "code",
        "outputId": "d34f991b-9609-4d12-d7e6-11070c875ea8",
        "colab": {
          "base_uri": "https://localhost:8080/",
          "height": 111
        }
      },
      "source": [
        "example_result = model.predict(example_batch)\n",
        "example_result"
      ],
      "execution_count": 22,
      "outputs": [
        {
          "output_type": "execute_result",
          "data": {
            "text/plain": [
              "array([[ 1.0242586 ],\n",
              "       [-0.1373463 ],\n",
              "       [ 1.1181037 ],\n",
              "       [ 0.36694744],\n",
              "       [ 0.93225   ]], dtype=float32)"
            ]
          },
          "metadata": {
            "tags": []
          },
          "execution_count": 22
        }
      ]
    },
    {
      "cell_type": "code",
      "metadata": {
        "id": "HwwhSrFalcCV",
        "colab_type": "code",
        "outputId": "abc8d69b-a6dd-4eb7-c3bb-8d492038a859",
        "colab": {
          "base_uri": "https://localhost:8080/",
          "height": 422
        }
      },
      "source": [
        "keras.utils.plot_model(model, 'my_first_model_with_shape_info.png', show_shapes=True)\n"
      ],
      "execution_count": 23,
      "outputs": [
        {
          "output_type": "execute_result",
          "data": {
            "image/png": "[encoded data removed]",
            "text/plain": [
              "<IPython.core.display.Image object>"
            ]
          },
          "metadata": {
            "tags": []
          },
          "execution_count": 23
        }
      ]
    },
    {
      "cell_type": "markdown",
      "metadata": {
        "id": "1es7VTdEMmH6",
        "colab_type": "text"
      },
      "source": [
        "Commencons l'entrainement"
      ]
    },
    {
      "cell_type": "code",
      "metadata": {
        "id": "tPX2_n12Mn8I",
        "colab_type": "code",
        "outputId": "25c6eef8-548f-40bf-e30b-d7d45390c710",
        "colab": {
          "base_uri": "https://localhost:8080/",
          "height": 243
        }
      },
      "source": [
        "# Display training progress by printing a single dot for each completed epoch\n",
        "class PrintDot(keras.callbacks.Callback):\n",
        "  def on_epoch_end(self, epoch, logs):\n",
        "    if epoch % 100 == 0: print('')\n",
        "    print('.', end='')\n",
        "\n",
        "EPOCHS = 1000\n",
        "\n",
        "history = model.fit(\n",
        "  dataset, train_labels,\n",
        "  epochs=EPOCHS, validation_split = 0.2, verbose=0,\n",
        "  callbacks=[PrintDot()])\n"
      ],
      "execution_count": 24,
      "outputs": [
        {
          "output_type": "stream",
          "text": [
            "\n",
            "....................................................................................................\n",
            "....................................................................................................\n",
            "....................................................................................................\n",
            "....................................................................................................\n",
            "....................................................................................................\n",
            "....................................................................................................\n",
            "....................................................................................................\n",
            "....................................................................................................\n",
            "....................................................................................................\n",
            "...................................................................................................."
          ],
          "name": "stdout"
        }
      ]
    },
    {
      "cell_type": "markdown",
      "metadata": {
        "id": "XvR0SbwzMzHG",
        "colab_type": "text"
      },
      "source": [
        "Voyons ce qui s'est passé"
      ]
    },
    {
      "cell_type": "code",
      "metadata": {
        "id": "D4_KNJY2M1Oo",
        "colab_type": "code",
        "outputId": "1ae31e07-cff9-4061-8094-c172c9b78fdc",
        "colab": {
          "base_uri": "https://localhost:8080/",
          "height": 226
        }
      },
      "source": [
        "hist = pd.DataFrame(history.history)\n",
        "hist['epoch'] = history.epoch\n",
        "hist.tail()\n"
      ],
      "execution_count": 25,
      "outputs": [
        {
          "output_type": "execute_result",
          "data": {
            "text/html": [
              "<div>\n",
              "<style scoped>\n",
              "    .dataframe tbody tr th:only-of-type {\n",
              "        vertical-align: middle;\n",
              "    }\n",
              "\n",
              "    .dataframe tbody tr th {\n",
              "        vertical-align: top;\n",
              "    }\n",
              "\n",
              "    .dataframe thead th {\n",
              "        text-align: right;\n",
              "    }\n",
              "</style>\n",
              "<table border=\"1\" class=\"dataframe\">\n",
              "  <thead>\n",
              "    <tr style=\"text-align: right;\">\n",
              "      <th></th>\n",
              "      <th>loss</th>\n",
              "      <th>mean_absolute_error</th>\n",
              "      <th>mean_squared_error</th>\n",
              "      <th>val_loss</th>\n",
              "      <th>val_mean_absolute_error</th>\n",
              "      <th>val_mean_squared_error</th>\n",
              "      <th>epoch</th>\n",
              "    </tr>\n",
              "  </thead>\n",
              "  <tbody>\n",
              "    <tr>\n",
              "      <th>995</th>\n",
              "      <td>0.178595</td>\n",
              "      <td>0.290429</td>\n",
              "      <td>0.178595</td>\n",
              "      <td>1.242240</td>\n",
              "      <td>0.868505</td>\n",
              "      <td>1.242240</td>\n",
              "      <td>995</td>\n",
              "    </tr>\n",
              "    <tr>\n",
              "      <th>996</th>\n",
              "      <td>0.223950</td>\n",
              "      <td>0.355108</td>\n",
              "      <td>0.223950</td>\n",
              "      <td>1.075784</td>\n",
              "      <td>0.828837</td>\n",
              "      <td>1.075784</td>\n",
              "      <td>996</td>\n",
              "    </tr>\n",
              "    <tr>\n",
              "      <th>997</th>\n",
              "      <td>0.192395</td>\n",
              "      <td>0.319118</td>\n",
              "      <td>0.192395</td>\n",
              "      <td>1.025046</td>\n",
              "      <td>0.801351</td>\n",
              "      <td>1.025046</td>\n",
              "      <td>997</td>\n",
              "    </tr>\n",
              "    <tr>\n",
              "      <th>998</th>\n",
              "      <td>0.183066</td>\n",
              "      <td>0.299883</td>\n",
              "      <td>0.183066</td>\n",
              "      <td>1.013577</td>\n",
              "      <td>0.827974</td>\n",
              "      <td>1.013577</td>\n",
              "      <td>998</td>\n",
              "    </tr>\n",
              "    <tr>\n",
              "      <th>999</th>\n",
              "      <td>0.166445</td>\n",
              "      <td>0.282961</td>\n",
              "      <td>0.166445</td>\n",
              "      <td>1.010541</td>\n",
              "      <td>0.821138</td>\n",
              "      <td>1.010541</td>\n",
              "      <td>999</td>\n",
              "    </tr>\n",
              "  </tbody>\n",
              "</table>\n",
              "</div>"
            ],
            "text/plain": [
              "         loss  mean_absolute_error  ...  val_mean_squared_error  epoch\n",
              "995  0.178595             0.290429  ...                1.242240    995\n",
              "996  0.223950             0.355108  ...                1.075784    996\n",
              "997  0.192395             0.319118  ...                1.025046    997\n",
              "998  0.183066             0.299883  ...                1.013577    998\n",
              "999  0.166445             0.282961  ...                1.010541    999\n",
              "\n",
              "[5 rows x 7 columns]"
            ]
          },
          "metadata": {
            "tags": []
          },
          "execution_count": 25
        }
      ]
    },
    {
      "cell_type": "markdown",
      "metadata": {
        "id": "jeII0Oc6NQi-",
        "colab_type": "text"
      },
      "source": [
        "Avec une courbe"
      ]
    },
    {
      "cell_type": "code",
      "metadata": {
        "id": "MdwcO8u9NR8W",
        "colab_type": "code",
        "outputId": "92c630e6-16e1-4b17-c4f8-2ccbe9d751db",
        "colab": {
          "base_uri": "https://localhost:8080/",
          "height": 549
        }
      },
      "source": [
        "import matplotlib.pyplot as plt\n",
        "\n",
        "\n",
        "def plot_history(history):\n",
        "  hist = pd.DataFrame(history.history)\n",
        "  hist['epoch'] = history.epoch\n",
        "\n",
        "  plt.figure()\n",
        "  plt.xlabel('Epoch')\n",
        "  plt.ylabel('Mean Abs Error [eval]')\n",
        "  plt.plot(hist['epoch'], hist['mean_absolute_error'],\n",
        "           label='Train Error')\n",
        "  plt.plot(hist['epoch'], hist['val_mean_absolute_error'],\n",
        "           label = 'Val Error')\n",
        "  plt.ylim([0,5])\n",
        "  plt.legend()\n",
        "\n",
        "  plt.figure()\n",
        "  plt.xlabel('Epoch')\n",
        "  plt.ylabel('Mean Square Error [$eval^2$]')\n",
        "  plt.plot(hist['epoch'], hist['mean_squared_error'],\n",
        "           label='Train Error')\n",
        "  plt.plot(hist['epoch'], hist['val_mean_squared_error'],\n",
        "           label = 'Val Error')\n",
        "  plt.ylim([0,20])\n",
        "  plt.legend()\n",
        "  plt.show()\n",
        "\n",
        "\n",
        "plot_history(history)\n"
      ],
      "execution_count": 28,
      "outputs": [
        {
          "output_type": "display_data",
          "data": {
            "image/png": "[encoded data removed]",
            "text/plain": [
              "<Figure size 432x288 with 1 Axes>"
            ]
          },
          "metadata": {
            "tags": []
          }
        },
        {
          "output_type": "display_data",
          "data": {
            "image/png": "[encoded data removed]",
            "text/plain": [
              "<Figure size 432x288 with 1 Axes>"
            ]
          },
          "metadata": {
            "tags": []
          }
        }
      ]
    },
    {
      "cell_type": "markdown",
      "metadata": {
        "id": "xYP58eaeQ246",
        "colab_type": "text"
      },
      "source": [
        "Revoyons ce qui se passe maintenant en prédiction"
      ]
    },
    {
      "cell_type": "code",
      "metadata": {
        "id": "aNz2GG9JQ6Tl",
        "colab_type": "code",
        "outputId": "aceaa470-52a0-41c0-ad5d-2547e8e1d56e",
        "colab": {
          "base_uri": "https://localhost:8080/",
          "height": 111
        }
      },
      "source": [
        "example_batch = dataset[:5]\n",
        "example_result = model.predict(example_batch)\n",
        "example_result\n"
      ],
      "execution_count": 29,
      "outputs": [
        {
          "output_type": "execute_result",
          "data": {
            "text/plain": [
              "array([[ 0.9681268 ],\n",
              "       [-1.0050243 ],\n",
              "       [ 0.86987066],\n",
              "       [ 0.8192281 ],\n",
              "       [ 0.8963525 ]], dtype=float32)"
            ]
          },
          "metadata": {
            "tags": []
          },
          "execution_count": 29
        }
      ]
    },
    {
      "cell_type": "markdown",
      "metadata": {
        "id": "JDRY__fORPDf",
        "colab_type": "text"
      },
      "source": [
        "Et on attendait"
      ]
    },
    {
      "cell_type": "code",
      "metadata": {
        "id": "Ig1-ThxHRROI",
        "colab_type": "code",
        "outputId": "36546784-8c19-42bb-d5de-90830646470d",
        "colab": {
          "base_uri": "https://localhost:8080/",
          "height": 129
        }
      },
      "source": [
        "\n",
        "examples_labels = train_labels[:5]\n",
        "examples_labels"
      ],
      "execution_count": 30,
      "outputs": [
        {
          "output_type": "execute_result",
          "data": {
            "text/plain": [
              "0    1\n",
              "1   -1\n",
              "2    1\n",
              "3    1\n",
              "4    1\n",
              "Name: eval, dtype: int64"
            ]
          },
          "metadata": {
            "tags": []
          },
          "execution_count": 30
        }
      ]
    },
    {
      "cell_type": "markdown",
      "metadata": {
        "id": "3Kfz-ElgRUm5",
        "colab_type": "text"
      },
      "source": [
        "Ca semble pas mal !"
      ]
    },
    {
      "cell_type": "markdown",
      "metadata": {
        "id": "JBoV2YsdSuMS",
        "colab_type": "text"
      },
      "source": [
        "Essayons de sauver le model pendant l'apprentissage"
      ]
    },
    {
      "cell_type": "code",
      "metadata": {
        "id": "c2-sCl7qTAsb",
        "colab_type": "code",
        "outputId": "0ed1efe4-9b86-4954-f309-c5fcf2f8e7ec",
        "colab": {
          "base_uri": "https://localhost:8080/",
          "height": 1000
        }
      },
      "source": [
        "import os\n",
        "import tensorflow as tf\n",
        "\n",
        "checkpoint_path = \"training_1/cp.ckpt\"\n",
        "checkpoint_dir = os.path.dirname(checkpoint_path)\n",
        "nSamples = dataset.shape[0]\n",
        "print(nSamples)\n",
        "\n",
        "# Create a callback that saves the model's weights\n",
        "cp_callback = tf.keras.callbacks.ModelCheckpoint(filepath=checkpoint_path,\n",
        "                                                 save_weights_only=True,\n",
        "                                                 save_freq = nSamples*100,\n",
        "                                                 verbose=1)\n",
        "\n",
        "\n",
        "\n",
        "# Display training progress by printing a single dot for each completed epoch\n",
        "class PrintDot(keras.callbacks.Callback):\n",
        "  def on_epoch_end(self, epoch, logs):\n",
        "    if epoch % 100 == 0: print('')\n",
        "    print('.', end='')\n",
        "\n",
        "EPOCHS = 2000\n",
        "\n",
        "history = model.fit(\n",
        "  dataset, train_labels,\n",
        "  epochs=EPOCHS,  verbose=0, shuffle=True,\n",
        "  callbacks=[PrintDot(),cp_callback])\n"
      ],
      "execution_count": 35,
      "outputs": [
        {
          "output_type": "stream",
          "text": [
            "143\n",
            "\n",
            "...................................................................................................\n",
            "Epoch 00100: saving model to training_1/cp.ckpt\n",
            ".\n",
            "...................................................................................................\n",
            "Epoch 00200: saving model to training_1/cp.ckpt\n",
            ".\n",
            "...................................................................................................\n",
            "Epoch 00300: saving model to training_1/cp.ckpt\n",
            ".\n",
            "...................................................................................................\n",
            "Epoch 00400: saving model to training_1/cp.ckpt\n",
            ".\n",
            "...................................................................................................\n",
            "Epoch 00500: saving model to training_1/cp.ckpt\n",
            ".\n",
            "...................................................................................................\n",
            "Epoch 00600: saving model to training_1/cp.ckpt\n",
            ".\n",
            "...................................................................................................\n",
            "Epoch 00700: saving model to training_1/cp.ckpt\n",
            ".\n",
            "...................................................................................................\n",
            "Epoch 00800: saving model to training_1/cp.ckpt\n",
            ".\n",
            "...................................................................................................\n",
            "Epoch 00900: saving model to training_1/cp.ckpt\n",
            ".\n",
            "...................................................................................................\n",
            "Epoch 01000: saving model to training_1/cp.ckpt\n",
            ".\n",
            "...................................................................................................\n",
            "Epoch 01100: saving model to training_1/cp.ckpt\n",
            ".\n",
            "...................................................................................................\n",
            "Epoch 01200: saving model to training_1/cp.ckpt\n",
            ".\n",
            "...................................................................................................\n",
            "Epoch 01300: saving model to training_1/cp.ckpt\n",
            ".\n",
            "...................................................................................................\n",
            "Epoch 01400: saving model to training_1/cp.ckpt\n",
            ".\n",
            "...................................................................................................\n",
            "Epoch 01500: saving model to training_1/cp.ckpt\n",
            ".\n",
            "...................................................................................................\n",
            "Epoch 01600: saving model to training_1/cp.ckpt\n",
            ".\n",
            "...................................................................................................\n",
            "Epoch 01700: saving model to training_1/cp.ckpt\n",
            ".\n",
            "...................................................................................................\n",
            "Epoch 01800: saving model to training_1/cp.ckpt\n",
            ".\n",
            "...................................................................................................\n",
            "Epoch 01900: saving model to training_1/cp.ckpt\n",
            ".\n",
            "...................................................................................................\n",
            "Epoch 02000: saving model to training_1/cp.ckpt\n",
            "."
          ],
          "name": "stdout"
        }
      ]
    },
    {
      "cell_type": "markdown",
      "metadata": {
        "id": "UbottxobU44K",
        "colab_type": "text"
      },
      "source": [
        "Pour charger ce model, on ferait"
      ]
    },
    {
      "cell_type": "code",
      "metadata": {
        "id": "kubq54kmU9c6",
        "colab_type": "code",
        "outputId": "737385c0-aa4f-4d24-e80d-bdc438c13e37",
        "colab": {
          "base_uri": "https://localhost:8080/",
          "height": 36
        }
      },
      "source": [
        "# Create a basic model instance\n",
        "model2 = mymodel.build_model()\n",
        "\n",
        "# Loads the weights\n",
        "model2.load_weights(checkpoint_path)"
      ],
      "execution_count": 36,
      "outputs": [
        {
          "output_type": "execute_result",
          "data": {
            "text/plain": [
              "<tensorflow.python.training.tracking.util.CheckpointLoadStatus at 0x7f3f1d625a20>"
            ]
          },
          "metadata": {
            "tags": []
          },
          "execution_count": 36
        }
      ]
    },
    {
      "cell_type": "markdown",
      "metadata": {
        "id": "4edTay5vVWvM",
        "colab_type": "text"
      },
      "source": [
        "Testons ce modele :"
      ]
    },
    {
      "cell_type": "code",
      "metadata": {
        "id": "lWtFqHmPVY5K",
        "colab_type": "code",
        "outputId": "2081cb88-7711-481d-b652-cc7ade4aa296",
        "colab": {
          "base_uri": "https://localhost:8080/",
          "height": 111
        }
      },
      "source": [
        "example_batch = dataset[:5]\n",
        "example_result = model.predict(example_batch)\n",
        "example_result\n"
      ],
      "execution_count": 37,
      "outputs": [
        {
          "output_type": "execute_result",
          "data": {
            "text/plain": [
              "array([[ 1.0043095 ],\n",
              "       [-0.96870315],\n",
              "       [ 1.0782751 ],\n",
              "       [ 1.0087711 ],\n",
              "       [ 1.186312  ]], dtype=float32)"
            ]
          },
          "metadata": {
            "tags": []
          },
          "execution_count": 37
        }
      ]
    },
    {
      "cell_type": "markdown",
      "metadata": {
        "id": "AqGE1-w_VaFf",
        "colab_type": "text"
      },
      "source": [
        "pour un résultat attendu de :"
      ]
    },
    {
      "cell_type": "code",
      "metadata": {
        "id": "2208d-oIVgQ9",
        "colab_type": "code",
        "colab": {}
      },
      "source": [
        "\n",
        "examples_labels = train_labels[:5]\n",
        "examples_labels"
      ],
      "execution_count": 0,
      "outputs": []
    },
    {
      "cell_type": "markdown",
      "metadata": {
        "id": "sml0NHoiTuY6",
        "colab_type": "text"
      },
      "source": [
        "On aurait aussi pu faire..."
      ]
    },
    {
      "cell_type": "code",
      "metadata": {
        "id": "CgZ_60ZWTzw0",
        "colab_type": "code",
        "colab": {}
      },
      "source": [
        "# Save the weights\n",
        "model.save_weights('./checkpoints/my_checkpoint')\n",
        "\n",
        "# Create a new model instance\n",
        "model3 = build_model()\n",
        "\n",
        "# Restore the weights\n",
        "model3.load_weights('./checkpoints/my_checkpoint')\n",
        "\n",
        "# Evaluate the model\n",
        "loss,mae,mse= model3.evaluate(dataset,  train_labels, verbose=2)\n",
        "print(loss)\n"
      ],
      "execution_count": 0,
      "outputs": []
    },
    {
      "cell_type": "markdown",
      "metadata": {
        "id": "MRRDSt39b3ms",
        "colab_type": "text"
      },
      "source": [
        "Voyons une utilisation en prédiction telle qu'elle serait faite dans le jeu...\n"
      ]
    },
    {
      "cell_type": "code",
      "metadata": {
        "id": "H0LesOXccG1b",
        "colab_type": "code",
        "colab": {}
      },
      "source": [
        "import numpy as np\n",
        "\n",
        "board=[7,5,3,1]\n",
        "npboard = np.asarray([board])\n",
        "print(npboard.shape)\n",
        "model2.predict(npboard)"
      ],
      "execution_count": 0,
      "outputs": []
    },
    {
      "cell_type": "markdown",
      "metadata": {
        "id": "pMtTVga5Ggps",
        "colab_type": "text"
      },
      "source": [
        "Evaluons la qualité de notre apprentissage"
      ]
    },
    {
      "cell_type": "code",
      "metadata": {
        "id": "BHbEu71IGojG",
        "colab_type": "code",
        "outputId": "830ab100-bb9f-471c-8afb-70f3f0c0fcb6",
        "colab": {
          "base_uri": "https://localhost:8080/",
          "height": 412
        }
      },
      "source": [
        "!wget https://raw.githubusercontent.com/elbixos/M2_Connectionnisme/master/DeepMim/Sources/testLearningEvaluation.py\n",
        "!python testLearningEvaluation.py"
      ],
      "execution_count": 38,
      "outputs": [
        {
          "output_type": "stream",
          "text": [
            "--2019-11-15 23:55:17--  https://raw.githubusercontent.com/elbixos/M2_Connectionnisme/master/DeepMim/Sources/testLearningEvaluation.py\n",
            "Resolving raw.githubusercontent.com (raw.githubusercontent.com)... 151.101.0.133, 151.101.64.133, 151.101.128.133, ...\n",
            "Connecting to raw.githubusercontent.com (raw.githubusercontent.com)|151.101.0.133|:443... connected.\n",
            "HTTP request sent, awaiting response... 200 OK\n",
            "Length: 1201 (1.2K) [text/plain]\n",
            "Saving to: ‘testLearningEvaluation.py’\n",
            "\n",
            "\r          testLearn   0%[                    ]       0  --.-KB/s               \rtestLearningEvaluat 100%[===================>]   1.17K  --.-KB/s    in 0s      \n",
            "\n",
            "2019-11-15 23:55:18 (223 MB/s) - ‘testLearningEvaluation.py’ saved [1201/1201]\n",
            "\n",
            "WARNING:tensorflow:From /usr/local/lib/python3.6/dist-packages/tensorflow_core/python/ops/resource_variable_ops.py:1630: calling BaseResourceVariable.__init__ (from tensorflow.python.ops.resource_variable_ops) with constraint is deprecated and will be removed in a future version.\n",
            "Instructions for updating:\n",
            "If using Keras pass *_constraint arguments to layers.\n",
            "2019-11-15 23:55:22.603452: I tensorflow/core/platform/profile_utils/cpu_utils.cc:94] CPU Frequency: 2300000000 Hz\n",
            "2019-11-15 23:55:22.603727: I tensorflow/compiler/xla/service/service.cc:168] XLA service 0x2cd1800 initialized for platform Host (this does not guarantee that XLA will be used). Devices:\n",
            "2019-11-15 23:55:22.603763: I tensorflow/compiler/xla/service/service.cc:176]   StreamExecutor device (0): Host, Default Version\n",
            "23 [ 5 0 0 0 ] -1 0.090157405\n",
            "71 [ 5 4 1 1 ] -1 0.044271603\n",
            "Nb errors 2\n"
          ],
          "name": "stdout"
        }
      ]
    },
    {
      "cell_type": "code",
      "metadata": {
        "id": "DHZ_FlQhNmSG",
        "colab_type": "code",
        "colab": {}
      },
      "source": [
        "def computeErrors(x,labels, predictions):\n",
        "  truths = labels.values\n",
        "  nbErrors=0\n",
        "  for i in range(len(truths)) :\n",
        "    if truths[i]*predictions[i][0] <=0 :\n",
        "      nbErrors += 1\n",
        "      print(i,x.iloc[i,0],x.iloc[i,1],x.iloc[i,2],x.iloc[i,3],truths[i],predictions[i][0])\n",
        "  return nbErrors\n",
        "\n",
        "pred = model2.predict(dataset)\n",
        "\n",
        "computeErrors(dataset,train_labels,pred)"
      ],
      "execution_count": 0,
      "outputs": []
    },
    {
      "cell_type": "markdown",
      "metadata": {
        "id": "9WVjiIQH76S2",
        "colab_type": "text"
      },
      "source": [
        "Incrustons tout ceci dans un jeu d'allumettes"
      ]
    },
    {
      "cell_type": "code",
      "metadata": {
        "id": "F9phNiMT8H09",
        "colab_type": "code",
        "outputId": "a0484c1a-75cf-4820-d5ff-bf4ef2f70846",
        "colab": {
          "base_uri": "https://localhost:8080/",
          "height": 243
        }
      },
      "source": [
        "!wget https://raw.githubusercontent.com/elbixos/M2_Connectionnisme/master/DeepMim/Sources/player.py"
      ],
      "execution_count": 42,
      "outputs": [
        {
          "output_type": "stream",
          "text": [
            "--2019-11-16 00:01:12--  https://raw.githubusercontent.com/elbixos/M2_Connectionnisme/master/DeepMim/Sources/player.py\n",
            "Resolving raw.githubusercontent.com (raw.githubusercontent.com)... 151.101.0.133, 151.101.64.133, 151.101.128.133, ...\n",
            "Connecting to raw.githubusercontent.com (raw.githubusercontent.com)|151.101.0.133|:443... connected.\n",
            "HTTP request sent, awaiting response... 200 OK\n",
            "Length: 5860 (5.7K) [text/plain]\n",
            "Saving to: ‘player.py’\n",
            "\n",
            "\rplayer.py             0%[                    ]       0  --.-KB/s               \rplayer.py           100%[===================>]   5.72K  --.-KB/s    in 0s      \n",
            "\n",
            "2019-11-16 00:01:12 (87.3 MB/s) - ‘player.py’ saved [5860/5860]\n",
            "\n"
          ],
          "name": "stdout"
        }
      ]
    },
    {
      "cell_type": "markdown",
      "metadata": {
        "id": "kG8gPzTp9CPy",
        "colab_type": "text"
      },
      "source": [
        "Et on va pouvoir tester"
      ]
    },
    {
      "cell_type": "code",
      "metadata": {
        "id": "jdK3wCy79Y_G",
        "colab_type": "code",
        "outputId": "c5324e84-78bc-43b5-fd3a-960011d19c0b",
        "colab": {
          "base_uri": "https://localhost:8080/",
          "height": 381
        }
      },
      "source": [
        "\n",
        "import player\n",
        "\n",
        "import random\n",
        "\n",
        "def displayBoard(board) :\n",
        "        \"\"\"\n",
        "        display the board\n",
        "        \"\"\"\n",
        "        for i in range(len(board)) :\n",
        "            print(i ,\":  \", end=\"\")\n",
        "            for j in range(board[i]) :\n",
        "                print(\"I\", end = \"\")\n",
        "            print(\"\")\n",
        "\n",
        "\n",
        "def drawMatches (line, nbMatches,board):\n",
        "    \"\"\"\n",
        "    Draw some matches on the current board.\n",
        "\n",
        "    It check if the proposal is valid.\n",
        "    \"\"\"\n",
        "    if (isValidStrategy(line, nbMatches,board)) :\n",
        "        board[line]-=nbMatches\n",
        "    else :\n",
        "        print (\"You tried something bad\")\n",
        "\n",
        "def isFinished (board):\n",
        "    \"\"\"\n",
        "    Tell if the game is finished or not\n",
        "    (finished if no matches remains)\n",
        "    \"\"\"\n",
        "    if countMatches(board) == 0:\n",
        "        return True\n",
        "    return False\n",
        "\n",
        "\n",
        "def countMatches (board):\n",
        "    \"\"\"\n",
        "    Count matches on the board\n",
        "    \"\"\"\n",
        "\n",
        "    nbAll =0\n",
        "    for ligne in board:\n",
        "        if ligne >= 0:\n",
        "            nbAll+=ligne\n",
        "    return nbAll\n",
        "\n",
        "def isValidStrategy (line, nbMatches, board):\n",
        "    \"\"\"\n",
        "    test if a strategy is valid for the current state of the Board\n",
        "\n",
        "    One could ask if a strategy is valid for a different board. If so,\n",
        "    pass the board as a parameter\n",
        "    \"\"\"\n",
        "    if (line < 0 or line >=4):\n",
        "        return False\n",
        "\n",
        "    if nbMatches < 1 or nbMatches >3 :\n",
        "        return False\n",
        "\n",
        "    if board[line]-nbMatches < 0:\n",
        "        return False\n",
        "\n",
        "    return True\n",
        "\n",
        "def changePlayer(numJoueur):\n",
        "    numJoueur = (numJoueur+1)%2\n",
        "    return numJoueur\n",
        "\n",
        "\n",
        "victories=0\n",
        "nbGames = 1\n",
        "\n",
        "p1=player.IADeepPlayer()\n",
        "p2=player.IARandomPlayer()\n",
        "\n",
        "\n",
        "for i in range(nbGames):\n",
        "\n",
        "    board = [7 , 5, 3, 1]\n",
        "    numJoueur = 0\n",
        "\n",
        "    #print (\"avec \",board ,\"j'aurais ce resultat\", evaluate(board,False,0))\n",
        "    #print (\"avec \",board ,\"je joue \", IAMakeChoice(board))\n",
        "\n",
        "\n",
        "\n",
        "    draw = random.random()\n",
        "    if draw <0.5:\n",
        "        players=[p1,p2]\n",
        "        IA=0\n",
        "    else :\n",
        "        players=[p2,p1]\n",
        "        IA=1\n",
        "\n",
        "\n",
        "    while(not isFinished(board)):\n",
        "            line, nbMatches = players[numJoueur].makeChoice(board)\n",
        "            drawMatches(line, nbMatches,board)\n",
        "            numJoueur = changePlayer(numJoueur)\n",
        "\n",
        "    if numJoueur == IA:\n",
        "        victories+=1\n",
        "\n",
        "print (\"IA wins in \",victories, \"over \",nbGames)\n"
      ],
      "execution_count": 44,
      "outputs": [
        {
          "output_type": "error",
          "ename": "AttributeError",
          "evalue": "ignored",
          "traceback": [
            "\u001b[0;31m---------------------------------------------------------------------------\u001b[0m",
            "\u001b[0;31mAttributeError\u001b[0m                            Traceback (most recent call last)",
            "\u001b[0;32m<ipython-input-44-fdd99a97bfa1>\u001b[0m in \u001b[0;36m<module>\u001b[0;34m()\u001b[0m\n\u001b[1;32m     74\u001b[0m \u001b[0mnbGames\u001b[0m \u001b[0;34m=\u001b[0m \u001b[0;36m1\u001b[0m\u001b[0;34m\u001b[0m\u001b[0;34m\u001b[0m\u001b[0m\n\u001b[1;32m     75\u001b[0m \u001b[0;34m\u001b[0m\u001b[0m\n\u001b[0;32m---> 76\u001b[0;31m \u001b[0mp1\u001b[0m\u001b[0;34m=\u001b[0m\u001b[0mplayer\u001b[0m\u001b[0;34m.\u001b[0m\u001b[0mIADeepPlayer\u001b[0m\u001b[0;34m(\u001b[0m\u001b[0;34m)\u001b[0m\u001b[0;34m\u001b[0m\u001b[0;34m\u001b[0m\u001b[0m\n\u001b[0m\u001b[1;32m     77\u001b[0m \u001b[0mp2\u001b[0m\u001b[0;34m=\u001b[0m\u001b[0mplayer\u001b[0m\u001b[0;34m.\u001b[0m\u001b[0mIARandomPlayer\u001b[0m\u001b[0;34m(\u001b[0m\u001b[0;34m)\u001b[0m\u001b[0;34m\u001b[0m\u001b[0;34m\u001b[0m\u001b[0m\n\u001b[1;32m     78\u001b[0m \u001b[0;34m\u001b[0m\u001b[0m\n",
            "\u001b[0;32m/content/player.py\u001b[0m in \u001b[0;36m__init__\u001b[0;34m(self)\u001b[0m\n\u001b[1;32m    185\u001b[0m         \u001b[0mcheckpoint_path\u001b[0m \u001b[0;34m=\u001b[0m \u001b[0;34m\"training_1/cp.ckpt\"\u001b[0m\u001b[0;34m\u001b[0m\u001b[0;34m\u001b[0m\u001b[0m\n\u001b[1;32m    186\u001b[0m         \u001b[0mself\u001b[0m\u001b[0;34m.\u001b[0m\u001b[0mmodel\u001b[0m \u001b[0;34m=\u001b[0m \u001b[0mmymodel\u001b[0m\u001b[0;34m.\u001b[0m\u001b[0mbuild_model\u001b[0m\u001b[0;34m(\u001b[0m\u001b[0;34m)\u001b[0m\u001b[0;34m\u001b[0m\u001b[0;34m\u001b[0m\u001b[0m\n\u001b[0;32m--> 187\u001b[0;31m         \u001b[0mself\u001b[0m\u001b[0;34m.\u001b[0m\u001b[0mmodel\u001b[0m\u001b[0;34m.\u001b[0m\u001b[0mload_model\u001b[0m\u001b[0;34m(\u001b[0m\u001b[0mcheckpoint_path\u001b[0m\u001b[0;34m)\u001b[0m\u001b[0;34m\u001b[0m\u001b[0;34m\u001b[0m\u001b[0m\n\u001b[0m\u001b[1;32m    188\u001b[0m \u001b[0;34m\u001b[0m\u001b[0m\n\u001b[1;32m    189\u001b[0m \u001b[0;34m\u001b[0m\u001b[0m\n",
            "\u001b[0;31mAttributeError\u001b[0m: 'Sequential' object has no attribute 'load_model'"
          ]
        }
      ]
    }
  ]
}